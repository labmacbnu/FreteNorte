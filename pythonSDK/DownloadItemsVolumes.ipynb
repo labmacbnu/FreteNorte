{
 "cells": [
  {
   "cell_type": "code",
   "execution_count": null,
   "metadata": {},
   "outputs": [],
   "source": []
  },
  {
   "cell_type": "code",
   "execution_count": 1,
   "metadata": {},
   "outputs": [],
   "source": [
    "import firebase_admin\n",
    "from firebase_admin import credentials\n",
    "from firebase_admin import firestore, auth\n",
    "from firebase_admin.firestore import FieldFilter\n",
    "from google.cloud.firestore_v1.document import DocumentReference\n",
    "from datetime import datetime\n",
    "import json \n",
    "from dotenv import load_dotenv\n",
    "from random import randint\n",
    "import os\n",
    "import re\n",
    "class bcolors:\n",
    "    HEADER = '\\033[95m'\n",
    "    OKBLUE = '\\033[94m'\n",
    "    OKCYAN = '\\033[96m'\n",
    "    OKGREEN = '\\033[92m'\n",
    "    WARNING = '\\033[93m'\n",
    "    FAIL = '\\033[91m'\n",
    "    ENDC = '\\033[0m'\n",
    "    BOLD = '\\033[1m'\n",
    "    UNDERLINE = '\\033[4m'\n",
    "\n",
    "load_dotenv()\n",
    "\n",
    "cred = credentials.Certificate(os.getenv(\"firebase_secret\"))\n",
    "app = firebase_admin.initialize_app(cred)\n",
    "\n",
    "\n",
    "db = firestore.client()\n",
    "\n",
    "\n",
    "def load_json_file(filename):\n",
    "    with open(filename) as fp:\n",
    "        content = json.load(fp)\n",
    "    return content\n"
   ]
  },
  {
   "cell_type": "code",
   "execution_count": 2,
   "metadata": {},
   "outputs": [],
   "source": [
    "def process_reference(reference: DocumentReference):\n",
    "    return reference.path\n",
    "\n",
    "def process_array(array: list):\n",
    "    return [process_reference(item) if type(item) == DocumentReference else item for item in array]\n",
    "\n",
    "def process_dict(input_dict):\n",
    "    output_dict = {}\n",
    "    for key, value in input_dict.items():\n",
    "        if type(value) == DocumentReference:\n",
    "            output_dict[key] = process_reference(value)\n",
    "        elif isinstance(value, dict):\n",
    "            output_dict[key] = process_dict(value)\n",
    "        elif isinstance(value, list):\n",
    "            output_dict[key] = process_array(value)\n",
    "        elif isinstance(value, datetime):\n",
    "            output_dict[key] = value.isoformat()\n",
    "        else:\n",
    "            output_dict[key] = value\n",
    "    return output_dict"
   ]
  },
  {
   "cell_type": "markdown",
   "metadata": {},
   "source": [
    "# Itens"
   ]
  },
  {
   "cell_type": "code",
   "execution_count": 3,
   "metadata": {},
   "outputs": [],
   "source": [
    "itens_stream = db.collection(\"items\").stream()\n",
    "\n",
    "itens = {} \n",
    "\n",
    "for item in itens_stream:\n",
    "    itens[item.id] = process_dict(item.to_dict())"
   ]
  },
  {
   "cell_type": "code",
   "execution_count": 4,
   "metadata": {},
   "outputs": [],
   "source": [
    "for key, val in itens.items():\n",
    "    itens[key] = process_dict(val)\n"
   ]
  },
  {
   "cell_type": "code",
   "execution_count": 5,
   "metadata": {},
   "outputs": [],
   "source": [
    "with open(\"json1123/itens.json\", \"w\") as fp:\n",
    "    json.dump(itens, fp, indent=2, ensure_ascii=False)"
   ]
  },
  {
   "cell_type": "markdown",
   "metadata": {},
   "source": [
    "## Volumes"
   ]
  },
  {
   "cell_type": "code",
   "execution_count": 6,
   "metadata": {},
   "outputs": [],
   "source": [
    "volumes_stream = db.collection(\"volumes\").where(filter=FieldFilter(\"deleted\", \"==\", False)).stream()\n",
    "\n",
    "volumes = {}\n",
    "\n",
    "for volume in volumes_stream:\n",
    "    volumes[volume.id] = process_dict(volume.to_dict())\n"
   ]
  },
  {
   "cell_type": "code",
   "execution_count": 7,
   "metadata": {},
   "outputs": [],
   "source": [
    "with open(\"json1123/volumes.json\", \"w\") as fp:\n",
    "    json.dump(volumes, fp, indent=2, ensure_ascii=False)"
   ]
  },
  {
   "cell_type": "code",
   "execution_count": null,
   "metadata": {},
   "outputs": [],
   "source": []
  }
 ],
 "metadata": {
  "kernelspec": {
   "display_name": "pythonSDK-zBAoyeeM",
   "language": "python",
   "name": "python3"
  },
  "language_info": {
   "codemirror_mode": {
    "name": "ipython",
    "version": 3
   },
   "file_extension": ".py",
   "mimetype": "text/x-python",
   "name": "python",
   "nbconvert_exporter": "python",
   "pygments_lexer": "ipython3",
   "version": "3.10.8"
  }
 },
 "nbformat": 4,
 "nbformat_minor": 2
}
