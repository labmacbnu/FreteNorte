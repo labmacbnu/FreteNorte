{
 "cells": [
  {
   "cell_type": "code",
   "execution_count": 30,
   "metadata": {},
   "outputs": [],
   "source": []
  },
  {
   "cell_type": "code",
   "execution_count": 14,
   "metadata": {},
   "outputs": [
    {
     "ename": "ValueError",
     "evalue": "The default Firebase app already exists. This means you called initialize_app() more than once without providing an app name as the second argument. In most cases you only need to call initialize_app() once. But if you do want to initialize multiple apps, pass a second argument to initialize_app() to give each app a unique name.",
     "output_type": "error",
     "traceback": [
      "\u001b[0;31m---------------------------------------------------------------------------\u001b[0m",
      "\u001b[0;31mValueError\u001b[0m                                Traceback (most recent call last)",
      "\u001b[1;32m/home/bossa/COGEP/FreteNorte/pythonSDK/RegrasMobilia.ipynb Célula 1\u001b[0m line \u001b[0;36m2\n\u001b[1;32m     <a href='vscode-notebook-cell://ssh-remote%2Blabmac04.blumenau.ufsc.br/home/bossa/COGEP/FreteNorte/pythonSDK/RegrasMobilia.ipynb#W0sdnNjb2RlLXJlbW90ZQ%3D%3D?line=21'>22</a>\u001b[0m load_dotenv()\n\u001b[1;32m     <a href='vscode-notebook-cell://ssh-remote%2Blabmac04.blumenau.ufsc.br/home/bossa/COGEP/FreteNorte/pythonSDK/RegrasMobilia.ipynb#W0sdnNjb2RlLXJlbW90ZQ%3D%3D?line=23'>24</a>\u001b[0m cred \u001b[39m=\u001b[39m credentials\u001b[39m.\u001b[39mCertificate(os\u001b[39m.\u001b[39mgetenv(\u001b[39m\"\u001b[39m\u001b[39mfirebase_secret\u001b[39m\u001b[39m\"\u001b[39m))\n\u001b[0;32m---> <a href='vscode-notebook-cell://ssh-remote%2Blabmac04.blumenau.ufsc.br/home/bossa/COGEP/FreteNorte/pythonSDK/RegrasMobilia.ipynb#W0sdnNjb2RlLXJlbW90ZQ%3D%3D?line=24'>25</a>\u001b[0m app \u001b[39m=\u001b[39m firebase_admin\u001b[39m.\u001b[39;49minitialize_app(cred)\n\u001b[1;32m     <a href='vscode-notebook-cell://ssh-remote%2Blabmac04.blumenau.ufsc.br/home/bossa/COGEP/FreteNorte/pythonSDK/RegrasMobilia.ipynb#W0sdnNjb2RlLXJlbW90ZQ%3D%3D?line=27'>28</a>\u001b[0m db \u001b[39m=\u001b[39m firestore\u001b[39m.\u001b[39mclient()\n\u001b[1;32m     <a href='vscode-notebook-cell://ssh-remote%2Blabmac04.blumenau.ufsc.br/home/bossa/COGEP/FreteNorte/pythonSDK/RegrasMobilia.ipynb#W0sdnNjb2RlLXJlbW90ZQ%3D%3D?line=30'>31</a>\u001b[0m \u001b[39mdef\u001b[39;00m \u001b[39mload_json_file\u001b[39m(filename):\n",
      "File \u001b[0;32m~/.local/share/virtualenvs/pythonSDK-zBAoyeeM/lib/python3.10/site-packages/firebase_admin/__init__.py:71\u001b[0m, in \u001b[0;36minitialize_app\u001b[0;34m(credential, options, name)\u001b[0m\n\u001b[1;32m     68\u001b[0m         \u001b[39mreturn\u001b[39;00m app\n\u001b[1;32m     70\u001b[0m \u001b[39mif\u001b[39;00m name \u001b[39m==\u001b[39m _DEFAULT_APP_NAME:\n\u001b[0;32m---> 71\u001b[0m     \u001b[39mraise\u001b[39;00m \u001b[39mValueError\u001b[39;00m((\n\u001b[1;32m     72\u001b[0m         \u001b[39m'\u001b[39m\u001b[39mThe default Firebase app already exists. This means you called \u001b[39m\u001b[39m'\u001b[39m\n\u001b[1;32m     73\u001b[0m         \u001b[39m'\u001b[39m\u001b[39minitialize_app() more than once without providing an app name as \u001b[39m\u001b[39m'\u001b[39m\n\u001b[1;32m     74\u001b[0m         \u001b[39m'\u001b[39m\u001b[39mthe second argument. In most cases you only need to call \u001b[39m\u001b[39m'\u001b[39m\n\u001b[1;32m     75\u001b[0m         \u001b[39m'\u001b[39m\u001b[39minitialize_app() once. But if you do want to initialize multiple \u001b[39m\u001b[39m'\u001b[39m\n\u001b[1;32m     76\u001b[0m         \u001b[39m'\u001b[39m\u001b[39mapps, pass a second argument to initialize_app() to give each app \u001b[39m\u001b[39m'\u001b[39m\n\u001b[1;32m     77\u001b[0m         \u001b[39m'\u001b[39m\u001b[39ma unique name.\u001b[39m\u001b[39m'\u001b[39m))\n\u001b[1;32m     79\u001b[0m \u001b[39mraise\u001b[39;00m \u001b[39mValueError\u001b[39;00m((\n\u001b[1;32m     80\u001b[0m     \u001b[39m'\u001b[39m\u001b[39mFirebase app named \u001b[39m\u001b[39m\"\u001b[39m\u001b[39m{0}\u001b[39;00m\u001b[39m\"\u001b[39m\u001b[39m already exists. This means you called \u001b[39m\u001b[39m'\u001b[39m\n\u001b[1;32m     81\u001b[0m     \u001b[39m'\u001b[39m\u001b[39minitialize_app() more than once with the same app name as the \u001b[39m\u001b[39m'\u001b[39m\n\u001b[1;32m     82\u001b[0m     \u001b[39m'\u001b[39m\u001b[39msecond argument. Make sure you provide a unique name every time \u001b[39m\u001b[39m'\u001b[39m\n\u001b[1;32m     83\u001b[0m     \u001b[39m'\u001b[39m\u001b[39myou call initialize_app().\u001b[39m\u001b[39m'\u001b[39m)\u001b[39m.\u001b[39mformat(name))\n",
      "\u001b[0;31mValueError\u001b[0m: The default Firebase app already exists. This means you called initialize_app() more than once without providing an app name as the second argument. In most cases you only need to call initialize_app() once. But if you do want to initialize multiple apps, pass a second argument to initialize_app() to give each app a unique name."
     ]
    }
   ],
   "source": [
    "import firebase_admin\n",
    "from firebase_admin import credentials\n",
    "from firebase_admin import firestore, auth\n",
    "from firebase_admin.firestore import FieldFilter\n",
    "from google.cloud.firestore_v1.document import DocumentReference\n",
    "from datetime import datetime\n",
    "import json \n",
    "from dotenv import load_dotenv\n",
    "from random import randint\n",
    "import os\n",
    "import re\n",
    "class bcolors:\n",
    "    HEADER = '\\033[95m'\n",
    "    OKBLUE = '\\033[94m'\n",
    "    OKCYAN = '\\033[96m'\n",
    "    OKGREEN = '\\033[92m'\n",
    "    WARNING = '\\033[93m'\n",
    "    FAIL = '\\033[91m'\n",
    "    ENDC = '\\033[0m'\n",
    "    BOLD = '\\033[1m'\n",
    "    UNDERLINE = '\\033[4m'\n",
    "\n",
    "load_dotenv()\n",
    "\n",
    "cred = credentials.Certificate(os.getenv(\"firebase_secret\"))\n",
    "app = firebase_admin.initialize_app(cred)\n",
    "\n",
    "\n",
    "db = firestore.client()\n",
    "\n",
    "\n",
    "def load_json_file(filename):\n",
    "    with open(filename) as fp:\n",
    "        content = json.load(fp)\n",
    "    return content\n"
   ]
  },
  {
   "cell_type": "code",
   "execution_count": 33,
   "metadata": {},
   "outputs": [],
   "source": [
    "def process_reference(reference: DocumentReference):\n",
    "    return reference.path\n",
    "\n",
    "def process_array(array: list):\n",
    "    return [process_reference(item) if type(item) == DocumentReference else item for item in array]\n",
    "\n",
    "def process_dict(input_dict):\n",
    "    output_dict = {}\n",
    "    for key, value in input_dict.items():\n",
    "        if type(value) == DocumentReference:\n",
    "            output_dict[key] = process_reference(value)\n",
    "        elif isinstance(value, dict):\n",
    "            output_dict[key] = process_dict(value)\n",
    "        elif isinstance(value, list):\n",
    "            output_dict[key] = process_array(value)\n",
    "        elif isinstance(value, datetime):\n",
    "            output_dict[key] = value.isoformat()\n",
    "        else:\n",
    "            output_dict[key] = value\n",
    "    return output_dict"
   ]
  },
  {
   "cell_type": "markdown",
   "metadata": {},
   "source": [
    "# Itens"
   ]
  },
  {
   "cell_type": "code",
   "execution_count": 31,
   "metadata": {},
   "outputs": [],
   "source": [
    "itens_stream = db.collection(\"items\").stream()\n",
    "\n",
    "itens = {} \n",
    "\n",
    "for item in itens_stream:\n",
    "    itens[item.id] = process_dict(item.to_dict())"
   ]
  },
  {
   "cell_type": "code",
   "execution_count": 34,
   "metadata": {},
   "outputs": [],
   "source": [
    "for key, val in itens.items():\n",
    "    itens[key] = process_dict(val)\n"
   ]
  },
  {
   "cell_type": "code",
   "execution_count": 35,
   "metadata": {},
   "outputs": [],
   "source": [
    "with open(\"json1123/itens.json\", \"w\") as fp:\n",
    "    json.dump(itens, fp, indent=2, ensure_ascii=False)"
   ]
  },
  {
   "cell_type": "markdown",
   "metadata": {},
   "source": [
    "## Volumes"
   ]
  },
  {
   "cell_type": "code",
   "execution_count": 36,
   "metadata": {},
   "outputs": [],
   "source": [
    "volumes_stream = db.collection(\"volumes\").where(filter=FieldFilter(\"deleted\", \"==\", False)).stream()\n",
    "\n",
    "volumes = {}\n",
    "\n",
    "for volume in volumes_stream:\n",
    "    volumes[volume.id] = process_dict(volume.to_dict())\n"
   ]
  },
  {
   "cell_type": "code",
   "execution_count": 37,
   "metadata": {},
   "outputs": [],
   "source": [
    "with open(\"json1123/volumes.json\", \"w\") as fp:\n",
    "    json.dump(volumes, fp, indent=2, ensure_ascii=False)"
   ]
  },
  {
   "cell_type": "code",
   "execution_count": null,
   "metadata": {},
   "outputs": [],
   "source": []
  }
 ],
 "metadata": {
  "kernelspec": {
   "display_name": "pythonSDK-zBAoyeeM",
   "language": "python",
   "name": "python3"
  },
  "language_info": {
   "codemirror_mode": {
    "name": "ipython",
    "version": 3
   },
   "file_extension": ".py",
   "mimetype": "text/x-python",
   "name": "python",
   "nbconvert_exporter": "python",
   "pygments_lexer": "ipython3",
   "version": "3.10.8"
  }
 },
 "nbformat": 4,
 "nbformat_minor": 2
}
