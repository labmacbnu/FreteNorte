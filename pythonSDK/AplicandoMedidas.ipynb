{
 "cells": [
  {
   "cell_type": "code",
   "execution_count": 1,
   "metadata": {},
   "outputs": [],
   "source": [
    "import firebase_admin\n",
    "from firebase_admin import credentials\n",
    "from firebase_admin import firestore, auth\n",
    "from firebase_admin.firestore import FieldFilter\n",
    "from datetime import datetime\n",
    "import json \n",
    "from dotenv import load_dotenv\n",
    "from random import randint\n",
    "import os\n",
    "import re\n",
    "from unidecode import unidecode\n",
    "\n",
    "load_dotenv()\n",
    "\n",
    "cred = credentials.Certificate(os.getenv(\"firebase_secret\"))\n",
    "app = firebase_admin.initialize_app(cred)\n",
    "db = firestore.client()"
   ]
  },
  {
   "cell_type": "code",
   "execution_count": 2,
   "metadata": {},
   "outputs": [],
   "source": [
    "with open('json0929/permanentes.json') as f:\n",
    "    data = json.load(f)"
   ]
  },
  {
   "cell_type": "code",
   "execution_count": 3,
   "metadata": {},
   "outputs": [],
   "source": [
    "def filter_list_of_dicts(list_of_dicts, property_name, property_value):\n",
    "    \"\"\"\n",
    "    This function filters a list of dictionaries by a given property name and value using the filter() function.\n",
    "    :param list_of_dicts: list of dictionaries to be filtered\n",
    "    :param property_name: name of the property to filter by\n",
    "    :param property_value: value of the property to filter by\n",
    "    :return: a list of dictionaries that match the filter criteria\n",
    "    \"\"\"\n",
    "    return filter(lambda d: d.get(property_name) == property_value, list_of_dicts)\n"
   ]
  },
  {
   "cell_type": "code",
   "execution_count": 4,
   "metadata": {},
   "outputs": [],
   "source": [
    "def get_item_by_key(key: int) -> dict:\n",
    "    \"\"\"\n",
    "    This function returns a dictionary item from a list of dictionaries based on a given key.\n",
    "    :param key: key to filter by\n",
    "    :return: a dictionary item that matches the key\n",
    "    \"\"\"\n",
    "    return next(filter_list_of_dicts(data, 'key', key), None)"
   ]
  },
  {
   "cell_type": "code",
   "execution_count": 16,
   "metadata": {},
   "outputs": [],
   "source": [
    "def batch_write_update_medidas(collection_name: str, id_list: list, medidas: str):\n",
    "    batch = db.batch() \n",
    "    collection_ref = db.collection(collection_name)\n",
    "    k = 1\n",
    "    for i in range(0, len(id_list), 500):\n",
    "        chunk = id_list[i:i+500]\n",
    "        for idx in chunk: \n",
    "            doc_ref = collection_ref.document(str(idx))\n",
    "            batch.update(doc_ref, {'detalhes.medidas': medidas})\n",
    "        print(f\"{collection_name}: chunk {k} ({len(chunk)} documents)\")\n",
    "        k += 1\n",
    "        batch.commit()"
   ]
  },
  {
   "cell_type": "code",
   "execution_count": 5,
   "metadata": {},
   "outputs": [
    {
     "data": {
      "text/plain": [
       "{'patrimonio': 543858,\n",
       " 'n_controle': None,\n",
       " 'cod_barras': 337921,\n",
       " 'n_serie': None,\n",
       " 'descricao': 'CADEIRA ESCOLAR UNIVERSITÁRIA - CADEIRA ESCOLAR COM PRANCHETA FIXA EM MDF, ASSENTO E ENCOSTO EM COMPENSADO E ESPUMA, REVESTIDO NA COR AZUL ROYAL. ESTRUTURA CONFECCIONADA EM TUBO DE AÇO PINTADO EM PRETO.',\n",
       " 'conservacao': 'EM USO',\n",
       " 'incorporacao': '12/02/2018',\n",
       " 'transf_local': None,\n",
       " 'valor': 140,\n",
       " 'situacao': 'Ativo',\n",
       " 'peso': '',\n",
       " 'medidas': ''}"
      ]
     },
     "execution_count": 5,
     "metadata": {},
     "output_type": "execute_result"
    }
   ],
   "source": [
    "cadeira = get_item_by_key(337921)\n",
    "cadeira['detalhes']"
   ]
  },
  {
   "cell_type": "code",
   "execution_count": null,
   "metadata": {},
   "outputs": [],
   "source": [
    "1=2"
   ]
  },
  {
   "cell_type": "markdown",
   "metadata": {},
   "source": [
    "# Cadeiras"
   ]
  },
  {
   "cell_type": "markdown",
   "metadata": {},
   "source": [
    "## Escolar"
   ]
  },
  {
   "cell_type": "code",
   "execution_count": 36,
   "metadata": {},
   "outputs": [],
   "source": [
    "cadeiras_escolar_ids = [ x['key'] for x in  filter_list_of_dicts(data, 'short_descricao', \"CADEIRA ESCOLAR UNIVERSITÁRIA\") ]\n",
    "    "
   ]
  },
  {
   "cell_type": "code",
   "execution_count": 37,
   "metadata": {},
   "outputs": [
    {
     "name": "stdout",
     "output_type": "stream",
     "text": [
      "items: chunk 1 (500 documents)\n",
      "items: chunk 2 (474 documents)\n"
     ]
    }
   ],
   "source": [
    "batch_write_update_medidas(\"items\", cadeiras_escolar_ids, '95 x 80 x 56 (AxCxL)')"
   ]
  },
  {
   "cell_type": "markdown",
   "metadata": {},
   "source": [
    "## Cadeira com braços"
   ]
  },
  {
   "cell_type": "code",
   "execution_count": 39,
   "metadata": {},
   "outputs": [
    {
     "data": {
      "text/plain": [
       "'CADEIRA ESCRITÓRIO FIXA COM BRAÇO'"
      ]
     },
     "execution_count": 39,
     "metadata": {},
     "output_type": "execute_result"
    }
   ],
   "source": [
    "get_item_by_key(310264)[\"short_descricao\"]\n",
    "# 'CADEIRA ESCRITÓRIO FIXA COM BRAÇO'"
   ]
  },
  {
   "cell_type": "code",
   "execution_count": 42,
   "metadata": {},
   "outputs": [],
   "source": [
    "cadeiras_com_braço_ids = [ x['key'] for x in  filter_list_of_dicts(data, 'short_descricao', get_item_by_key(310264)[\"short_descricao\"])]\n"
   ]
  },
  {
   "cell_type": "code",
   "execution_count": 46,
   "metadata": {},
   "outputs": [
    {
     "name": "stdout",
     "output_type": "stream",
     "text": [
      "items: chunk 1 (98 documents)\n"
     ]
    }
   ],
   "source": [
    "batch_write_update_medidas(\"items\", cadeiras_com_braço_ids, '96 x 59 x 63 (AxCxL)')"
   ]
  },
  {
   "cell_type": "markdown",
   "metadata": {},
   "source": [
    "## Cadeira sem braços"
   ]
  },
  {
   "cell_type": "code",
   "execution_count": 56,
   "metadata": {},
   "outputs": [
    {
     "data": {
      "text/plain": [
       "'CADEIRA DE DIÁLOGO FIXA SEM BRAÇOS'"
      ]
     },
     "execution_count": 56,
     "metadata": {},
     "output_type": "execute_result"
    }
   ],
   "source": [
    "get_item_by_key(347857)[\"short_descricao\"]\n"
   ]
  },
  {
   "cell_type": "code",
   "execution_count": 57,
   "metadata": {},
   "outputs": [],
   "source": [
    "cadeiras_sem_braço_ids = [ x['key'] for x in  filter_list_of_dicts(data, 'short_descricao', get_item_by_key(347857)[\"short_descricao\"])]\n"
   ]
  },
  {
   "cell_type": "code",
   "execution_count": 58,
   "metadata": {},
   "outputs": [
    {
     "data": {
      "text/plain": [
       "232"
      ]
     },
     "execution_count": 58,
     "metadata": {},
     "output_type": "execute_result"
    }
   ],
   "source": [
    "len(cadeiras_sem_braço_ids)"
   ]
  },
  {
   "cell_type": "code",
   "execution_count": 59,
   "metadata": {},
   "outputs": [
    {
     "data": {
      "text/plain": [
       "{'CADEIRA DE DIÁLOGO FIXA SEM BRAÇOS - ESTOFADA, EMPILHÁVEL, SEM BRAÇOS, MONTADA SOBRE ARMAÇÃO TUBULAR DE AÇO, DE COR PRETA, ASSENTO 460MM X 460 MM, ENCOSTO 400MM,TECIDO DE CREPE 100% POLIESTER, ESTRUTURA CONFECCIONADA EM AÇO CARBONO, TINTURA COM TRATAMENTO ANTIFERRUGEM.',\n",
       " 'CADEIRA DE DIÁLOGO FIXA SEM BRAÇOS - ESTOFADA, EMPILHÁVEL, SEM BRAÇOS, MONTADA SOBRE ARMAÇÃO TUBULAR DE AÇO, DE COR PRETA, ASSENTO 460MM X 460 MM, ENCOSTO 400MM,TECIDO DE CREPE 100% POLIESTER, ESTRUTURA CONFECCIONADA EM AÇO CARBONO, TINTURA COM TRATAMENTO ANTIFERRUGEM. ',\n",
       " 'CADEIRA DE DIÁLOGO FIXA SEM BRAÇOS - MARCA: FLEXFORM; MODELO: DOTY/CL.DOTY.C.EF. ESTOFADA, EMPILHÁVEL, SEM BRAÇOS, MONTADA SOBRE ARMAÇÃO TUBULAR DE AÇO, DE COR PRETA, ASSENTO 460MM X 460 MM, ENCOSTO 400MM, TECIDO DE CREPE 100% POLIESTER, ESTRUTURA CONFECCIONADA EM AÇO CARBONO, TINTURA COM TRATAMENTO ANTIFERRUGEM.'}"
      ]
     },
     "execution_count": 59,
     "metadata": {},
     "output_type": "execute_result"
    }
   ],
   "source": [
    "set([ x['detalhes']['descricao'] for x in  filter_list_of_dicts(data, 'short_descricao', get_item_by_key(347857)[\"short_descricao\"])])"
   ]
  },
  {
   "cell_type": "code",
   "execution_count": 60,
   "metadata": {},
   "outputs": [
    {
     "name": "stdout",
     "output_type": "stream",
     "text": [
      "items: chunk 1 (232 documents)\n"
     ]
    }
   ],
   "source": [
    "batch_write_update_medidas(\"items\", cadeiras_sem_braço_ids, '87 x 55 x 51 (AxCxL)')"
   ]
  },
  {
   "cell_type": "markdown",
   "metadata": {},
   "source": [
    "## Mesa reta 4 pés"
   ]
  },
  {
   "cell_type": "code",
   "execution_count": 53,
   "metadata": {},
   "outputs": [
    {
     "data": {
      "text/plain": [
       "'MESA RETA 4 PÉS, 800(L)X600(P)X740(A)MM '"
      ]
     },
     "execution_count": 53,
     "metadata": {},
     "output_type": "execute_result"
    }
   ],
   "source": [
    "get_item_by_key(363625)[\"short_descricao\"]"
   ]
  },
  {
   "cell_type": "code",
   "execution_count": 67,
   "metadata": {},
   "outputs": [],
   "source": [
    "mesa_reta_4 = filter_list_of_dicts(data, 'short_descricao', get_item_by_key(363625)[\"short_descricao\"])"
   ]
  },
  {
   "cell_type": "code",
   "execution_count": 60,
   "metadata": {},
   "outputs": [
    {
     "data": {
      "text/plain": [
       "{'MESA RETA 4 PÉS, 800(L)X600(P)X740(A)MM  - MARCA: TECNO2000, MODELO: BREMEN. MESA RETANGULAR, EM MADEIRA MDP REVESTIDA NA COR CINZA CLARO, ESTRUTURA EM AÇO COM PINTURA EPÓXI-PÓ NA COR ALUMÍNIO NATURAL. DIMENSÕES: 80X 60 X 74 CM.',\n",
       " 'MESA RETA 4 PÉS, 800(L)X600(P)X740(A)MM  - MARCA: TECNO2000; MODELO: BREMEN. MESA RETANGULAR, EM MADEIRA MDP REVESTIDA NA COR CINZA CLARO, ESTRUTURA EM AÇO COM PINTURA EPÓXI-PÓ NA COR ALUMÍNIO NATURAL. DIMENSÕES: 80X 60 X 74 CM.',\n",
       " 'MESA RETA 4 PÉS, 800(L)X600(P)X740(A)MM  - MESA RETANGULAR, EM MADEIRA MDP REVESTIDA NA COR CINZA CRISTAL, ESTRUTURA EM AÇO COM PINTURA EPÓXI-PÓ NA COR ALUMÍNIO NATURAL. DIMENSÕES: 80X 60 X 74 CM.',\n",
       " 'MESA RETA 4 PÉS, 800(L)X600(P)X740(A)MM  - MESA RETANGULAR, EM MADEIRA MDP REVESTIDA NA COR OVO, ESTRUTURA EM AÇO COM PINTURA EPÓXI-PÓ NA COR ALUMÍNIO NATURAL. DIMENSÕES: 80X 60 X 74 CM.'}"
      ]
     },
     "execution_count": 60,
     "metadata": {},
     "output_type": "execute_result"
    }
   ],
   "source": [
    "set([ x['detalhes']['descricao'] for x in  mesa_reta_4])"
   ]
  },
  {
   "cell_type": "code",
   "execution_count": 68,
   "metadata": {},
   "outputs": [],
   "source": [
    "mesa_reta_4_ids = [ x['key'] for x in  mesa_reta_4]"
   ]
  },
  {
   "cell_type": "code",
   "execution_count": 70,
   "metadata": {},
   "outputs": [
    {
     "name": "stdout",
     "output_type": "stream",
     "text": [
      "items: chunk 1 (88 documents)\n"
     ]
    }
   ],
   "source": [
    "batch_write_update_medidas(\"items\", mesa_reta_4_ids, '75 x 60 x 80 (AxCxL)')"
   ]
  },
  {
   "cell_type": "markdown",
   "metadata": {},
   "source": [
    "## Mesa retangular para computador"
   ]
  },
  {
   "cell_type": "code",
   "execution_count": 14,
   "metadata": {},
   "outputs": [],
   "source": [
    "get_item_by_key(327223)[\"detalhes\"][\"descricao\"]\n",
    "\n",
    "mesa_ret_comp = list(filter_list_of_dicts(data, 'short_descricao', get_item_by_key(327223)[\"short_descricao\"]))"
   ]
  },
  {
   "cell_type": "code",
   "execution_count": 20,
   "metadata": {},
   "outputs": [],
   "source": [
    "desc_mesa_ret_comp = [x[\"detalhes\"][\"descricao\"] for x in mesa_ret_comp]"
   ]
  },
  {
   "cell_type": "code",
   "execution_count": 40,
   "metadata": {},
   "outputs": [],
   "source": [
    "desc_mesa_ret_comp\n",
    "\n",
    "mesa_ret_comp_ids = [ x['key'] for x in mesa_ret_comp if x[\"detalhes\"][\"descricao\"].find(\"160 X 77\") > 0 ]\n"
   ]
  },
  {
   "cell_type": "code",
   "execution_count": 44,
   "metadata": {},
   "outputs": [
    {
     "name": "stdout",
     "output_type": "stream",
     "text": [
      "items: chunk 1 (95 documents)\n"
     ]
    }
   ],
   "source": [
    "batch_write_update_medidas('items', mesa_ret_comp_ids, '75 x 160 x 77 (AxCxL)')"
   ]
  },
  {
   "cell_type": "markdown",
   "metadata": {},
   "source": [
    "## ARMÁRIO ALTO PARA ESCRITÓRIO"
   ]
  },
  {
   "cell_type": "code",
   "execution_count": 51,
   "metadata": {},
   "outputs": [],
   "source": [
    "armario_algo_escrit = get_item_by_key(322722)"
   ]
  },
  {
   "cell_type": "code",
   "execution_count": 52,
   "metadata": {},
   "outputs": [],
   "source": [
    "armarios_algo_escrit = [ x  for x in  filter_list_of_dicts(data, 'short_descricao', armario_algo_escrit[\"short_descricao\"]) ]"
   ]
  },
  {
   "cell_type": "code",
   "execution_count": 53,
   "metadata": {},
   "outputs": [
    {
     "data": {
      "text/plain": [
       "{'ARMÁRIO ALTO PARA ESCRITÓRIO - ARMÁRIO ALTO PARA ESCRITÓRIO EM MADEIRA MDF REVESTIDO NA COR CINZA CRISTAL, COM DUAS PORTAS DE ABRIR, CHAVES, 3 PRATELEIRAS REGULÁVEIS. DIMENSÕES 160X80X50 CM.',\n",
       " 'ARMÁRIO ALTO PARA ESCRITÓRIO - ARMÁRIO ALTO PARA ESCRITÓRIO EM MADEIRA MDF REVESTIDO NA COR CINZA CRISTAL, COM DUAS PORTAS DE ABRIR, CHAVES, 4 PRATELEIRAS REGULÁVEIS. DIMENSÕES 170X90X48 CM.',\n",
       " 'ARMÁRIO ALTO PARA ESCRITÓRIO - ARMÁRIO ALTO PARA ESCRITÓRIO EM MADEIRA MDF REVESTIDO NA COR OVO, COM DUAS PORTAS DE ABRIR, CHAVES, PRATELEIRAS REGULÁVEIS. DIMENSÕES 160X90X45 CM.'}"
      ]
     },
     "execution_count": 53,
     "metadata": {},
     "output_type": "execute_result"
    }
   ],
   "source": [
    "set([ x['detalhes']['descricao'] for x in  armarios_algo_escrit])"
   ]
  },
  {
   "cell_type": "code",
   "execution_count": 54,
   "metadata": {},
   "outputs": [],
   "source": [
    "ids_armarios_algo_escrit = [ x['key'] for x in  armarios_algo_escrit  ]"
   ]
  },
  {
   "cell_type": "code",
   "execution_count": 55,
   "metadata": {},
   "outputs": [
    {
     "name": "stdout",
     "output_type": "stream",
     "text": [
      "items: chunk 1 (90 documents)\n"
     ]
    }
   ],
   "source": [
    "batch_write_update_medidas('items', ids_armarios_algo_escrit, '171 x 49 x 91 (AxCxL)')"
   ]
  },
  {
   "cell_type": "markdown",
   "metadata": {},
   "source": [
    "##  CADEIRA DE DIÁLOGO FIXA SEM BRAÇOS"
   ]
  },
  {
   "cell_type": "code",
   "execution_count": 7,
   "metadata": {},
   "outputs": [],
   "source": [
    "cadeira_dialogo_sembracos = get_item_by_key(359621)"
   ]
  },
  {
   "cell_type": "code",
   "execution_count": 8,
   "metadata": {},
   "outputs": [],
   "source": [
    "cadeiras_dialogo = list(filter_list_of_dicts(data, 'short_descricao', cadeira_dialogo_sembracos[\"short_descricao\"]))"
   ]
  },
  {
   "cell_type": "code",
   "execution_count": 13,
   "metadata": {},
   "outputs": [],
   "source": [
    "ids_cadeiras_dialogo = [ x['key'] for x in cadeiras_dialogo if x[\"detalhes\"][\"descricao\"] == cadeira_dialogo_sembracos[\"detalhes\"][\"descricao\"] ]"
   ]
  },
  {
   "cell_type": "code",
   "execution_count": 17,
   "metadata": {},
   "outputs": [
    {
     "name": "stdout",
     "output_type": "stream",
     "text": [
      "items: chunk 1 (119 documents)\n"
     ]
    }
   ],
   "source": [
    "batch_write_update_medidas('items', ids_cadeiras_dialogo, '87 x 50 x 53 (AxCxL)')"
   ]
  },
  {
   "cell_type": "markdown",
   "metadata": {},
   "source": [
    "## CADEIRA FIXA 04 PÉS SEM BRAÇOS"
   ]
  },
  {
   "cell_type": "code",
   "execution_count": 18,
   "metadata": {},
   "outputs": [],
   "source": [
    "cadeira_fixa_4 = get_item_by_key(353087)"
   ]
  },
  {
   "cell_type": "code",
   "execution_count": 19,
   "metadata": {},
   "outputs": [],
   "source": [
    "cadeiras_fixa_4 = list(filter_list_of_dicts(data, 'short_descricao', cadeira_fixa_4[\"short_descricao\"]))"
   ]
  },
  {
   "cell_type": "code",
   "execution_count": 22,
   "metadata": {},
   "outputs": [],
   "source": [
    "ids_cadeiras_fixa_4 = [ x['key'] for x in cadeiras_fixa_4 ]"
   ]
  },
  {
   "cell_type": "code",
   "execution_count": 23,
   "metadata": {},
   "outputs": [
    {
     "name": "stdout",
     "output_type": "stream",
     "text": [
      "items: chunk 1 (162 documents)\n"
     ]
    }
   ],
   "source": [
    "batch_write_update_medidas('items', ids_cadeiras_fixa_4, '78 x 54 x 54 (AxCxL)')"
   ]
  },
  {
   "cell_type": "markdown",
   "metadata": {},
   "source": [
    "## MESA PARA MICROCOMPUTADOR"
   ]
  },
  {
   "cell_type": "code",
   "execution_count": 24,
   "metadata": {},
   "outputs": [],
   "source": [
    "mesa_compiuter = get_item_by_key(317156)"
   ]
  },
  {
   "cell_type": "code",
   "execution_count": 25,
   "metadata": {},
   "outputs": [],
   "source": [
    "mesas_compiuter = list(filter_list_of_dicts(data, 'short_descricao', mesa_compiuter[\"short_descricao\"]))"
   ]
  },
  {
   "cell_type": "code",
   "execution_count": 26,
   "metadata": {},
   "outputs": [
    {
     "data": {
      "text/plain": [
       "{'MESA PARA MICROCOMPUTADOR - MESA PARA MICROCOMPUTADOR EM MADEIRA MDF REVISTIDA NA COR CINZA COM SUPORTE RETRÁTIL PARA TECLADO. \\nMEDIDAS: 75 X 80 X 70 CM, MEDIDA DO SUPORTE RETRÁTIL PARA TECLADO : 58 X 33 CM.',\n",
       " 'MESA PARA MICROCOMPUTADOR - MESA PARA MICROCOMPUTADOR EM MADEIRA MDF REVISTIDA NA COR CINZA. MEDIDAS: 75 X 80 X 70 CM.',\n",
       " 'MESA PARA MICROCOMPUTADOR - REVESTIDA EM ARVOPLAC, NA COR CASCA DE OVO, C/ESTRUTURA DE FERRO NA COR OVO, C/REBAIXO P/TECLADO RETRATIL, MED. 110X60X70CM.'}"
      ]
     },
     "execution_count": 26,
     "metadata": {},
     "output_type": "execute_result"
    }
   ],
   "source": [
    "set([ x['detalhes']['descricao'] for x in  mesas_compiuter])"
   ]
  },
  {
   "cell_type": "code",
   "execution_count": 27,
   "metadata": {},
   "outputs": [
    {
     "data": {
      "text/plain": [
       "81"
      ]
     },
     "execution_count": 27,
     "metadata": {},
     "output_type": "execute_result"
    }
   ],
   "source": [
    "len(mesas_compiuter)"
   ]
  },
  {
   "cell_type": "code",
   "execution_count": 28,
   "metadata": {},
   "outputs": [],
   "source": [
    "ids_mesas_compiuter = [ x['key'] for x in mesas_compiuter ] "
   ]
  },
  {
   "cell_type": "code",
   "execution_count": 29,
   "metadata": {},
   "outputs": [
    {
     "name": "stdout",
     "output_type": "stream",
     "text": [
      "items: chunk 1 (81 documents)\n"
     ]
    }
   ],
   "source": [
    "batch_write_update_medidas('items', ids_mesas_compiuter, '75 x 70 x 80 (AxCxL)')"
   ]
  },
  {
   "cell_type": "markdown",
   "metadata": {},
   "source": [
    "## BANQUETA  PARA LABORATÓRIO"
   ]
  },
  {
   "cell_type": "code",
   "execution_count": 30,
   "metadata": {},
   "outputs": [],
   "source": [
    "banqueta_lab = get_item_by_key(352801)"
   ]
  },
  {
   "cell_type": "code",
   "execution_count": 31,
   "metadata": {},
   "outputs": [],
   "source": [
    "banquetas_lab = list(filter_list_of_dicts(data, 'short_descricao', banqueta_lab[\"short_descricao\"]))"
   ]
  },
  {
   "cell_type": "code",
   "execution_count": 32,
   "metadata": {},
   "outputs": [
    {
     "data": {
      "text/plain": [
       "161"
      ]
     },
     "execution_count": 32,
     "metadata": {},
     "output_type": "execute_result"
    }
   ],
   "source": [
    "len(banquetas_lab)"
   ]
  },
  {
   "cell_type": "code",
   "execution_count": 33,
   "metadata": {},
   "outputs": [
    {
     "data": {
      "text/plain": [
       "{'BANQUETA  PARA LABORATÓRIO - BANQUETA COM QUATRO PERNAS, COM ASSENTO REDONDO, EM MADEIRA ANGELIM PARA LABORATÓRIO, DIMENSÕES: 70 X 30CM.',\n",
       " 'BANQUETA  PARA LABORATÓRIO - BANQUETA DE MADEIRA COM QUATRO PERNAS, NA COR BRANCA. COM 60 CM DE ALTURA E ASSENTO MEDINDO 30 CM DE DIÂMETRO. ',\n",
       " 'BANQUETA  PARA LABORATÓRIO - BANQUETA DE MADEIRA COM QUATRO PERNAS, NA COR BRANCA. COM 70 CM DE ALTURA E ASSENTO MEDINDO 30 CM DE DIÂMETRO.',\n",
       " 'BANQUETA  PARA LABORATÓRIO - BANQUETA EM MADEIRA ANGELIM PARA LABORATÓRIO, DIMENSÕES: 70 X 30CM.'}"
      ]
     },
     "execution_count": 33,
     "metadata": {},
     "output_type": "execute_result"
    }
   ],
   "source": [
    "set([ x['detalhes']['descricao'] for x in  banquetas_lab])"
   ]
  },
  {
   "cell_type": "code",
   "execution_count": 34,
   "metadata": {},
   "outputs": [],
   "source": [
    "ids_banquetas_lab = [ x['key'] for x in banquetas_lab ]"
   ]
  },
  {
   "cell_type": "code",
   "execution_count": 36,
   "metadata": {},
   "outputs": [
    {
     "name": "stdout",
     "output_type": "stream",
     "text": [
      "items: chunk 1 (161 documents)\n"
     ]
    }
   ],
   "source": [
    "batch_write_update_medidas('items', ids_banquetas_lab, '70 x 37 x 37 (AxCxL)')"
   ]
  },
  {
   "cell_type": "markdown",
   "metadata": {},
   "source": [
    "## CADEIRA GIRATÓRIA ESPALDAR MÉDIO"
   ]
  },
  {
   "cell_type": "code",
   "execution_count": 37,
   "metadata": {},
   "outputs": [],
   "source": [
    "cadeira_gira = get_item_by_key(347771)"
   ]
  },
  {
   "cell_type": "code",
   "execution_count": 38,
   "metadata": {},
   "outputs": [],
   "source": [
    "cadeiras_gira = list(filter_list_of_dicts(data, 'short_descricao', cadeira_gira[\"short_descricao\"]))"
   ]
  },
  {
   "cell_type": "code",
   "execution_count": 39,
   "metadata": {},
   "outputs": [
    {
     "data": {
      "text/plain": [
       "44"
      ]
     },
     "execution_count": 39,
     "metadata": {},
     "output_type": "execute_result"
    }
   ],
   "source": [
    "len(cadeiras_gira)"
   ]
  },
  {
   "cell_type": "code",
   "execution_count": 40,
   "metadata": {},
   "outputs": [
    {
     "data": {
      "text/plain": [
       "{'CADEIRA GIRATÓRIA ESPALDAR MÉDIO - MARCA: TOK; MODELO: 93EPSY GIR S/BR. EM TECIDO E ESTRUTURA DE AÇO NA COR PRETA. COM 5 RODÍZIOS. SEM APOIOS PARA OS BRAÇOS, COM ALTURA REGULÁVEL.'}"
      ]
     },
     "execution_count": 40,
     "metadata": {},
     "output_type": "execute_result"
    }
   ],
   "source": [
    "set([ x['detalhes']['descricao'] for x in  cadeiras_gira])"
   ]
  },
  {
   "cell_type": "code",
   "execution_count": 41,
   "metadata": {},
   "outputs": [],
   "source": [
    "ids_cadeiras_gira = [ x['key'] for x in cadeiras_gira ]"
   ]
  },
  {
   "cell_type": "code",
   "execution_count": 42,
   "metadata": {},
   "outputs": [
    {
     "name": "stdout",
     "output_type": "stream",
     "text": [
      "items: chunk 1 (44 documents)\n"
     ]
    }
   ],
   "source": [
    "batch_write_update_medidas('items', ids_cadeiras_gira, '95 x 60 x 46 (AxCxL)')"
   ]
  },
  {
   "cell_type": "markdown",
   "metadata": {},
   "source": [
    "## QUADRO"
   ]
  },
  {
   "cell_type": "code",
   "execution_count": 61,
   "metadata": {},
   "outputs": [],
   "source": [
    "quadro = get_item_by_key(327526)"
   ]
  },
  {
   "cell_type": "code",
   "execution_count": 62,
   "metadata": {},
   "outputs": [],
   "source": [
    "quadros = list(filter_list_of_dicts(data, 'short_descricao', quadro[\"short_descricao\"]))"
   ]
  },
  {
   "cell_type": "code",
   "execution_count": 63,
   "metadata": {},
   "outputs": [
    {
     "data": {
      "text/plain": [
       "{'QUADRO - BRANCO QUADRICULADO, EM ESTRUTURA DE ALUMINIO, P/USO PINCEL ATOMICO, C/SUPORTE P/ APAGADOR, SUPORTE P/FIXAR NA PAREDE, MED. 300X120CM',\n",
       " 'QUADRO - INTERATIVO, MARCA PROMETHEAN, MOD. ACTIVBOARD, C/SENSOR, NA COR BRANCA/CINZA, C/SUPORTE P/FIXAR NA PAREDE, C/ACESSORIOS, C/POTENCIA DE 6V, MED. 170X124CM.',\n",
       " 'QUADRO - VERDE, EM ESTRUTURA DE ALUMINIO, P/USO DE GIZ, C/SUPORTE P/ APAGADOR, SUPORTE P/FIXAR NA PAREDE, MED. 300X120CM'}"
      ]
     },
     "execution_count": 63,
     "metadata": {},
     "output_type": "execute_result"
    }
   ],
   "source": [
    "set([ x['detalhes']['descricao'] for x in  quadros])"
   ]
  },
  {
   "cell_type": "code",
   "execution_count": 64,
   "metadata": {},
   "outputs": [],
   "source": [
    "quadros_ids = [ x['key'] for x in quadros if x[\"detalhes\"][\"descricao\"].find(\"300X120\") > 0 ]"
   ]
  },
  {
   "cell_type": "code",
   "execution_count": 66,
   "metadata": {},
   "outputs": [
    {
     "data": {
      "text/plain": [
       "33"
      ]
     },
     "execution_count": 66,
     "metadata": {},
     "output_type": "execute_result"
    }
   ],
   "source": [
    "len(quadros_ids)"
   ]
  },
  {
   "cell_type": "code",
   "execution_count": 67,
   "metadata": {},
   "outputs": [
    {
     "name": "stdout",
     "output_type": "stream",
     "text": [
      "items: chunk 1 (33 documents)\n"
     ]
    }
   ],
   "source": [
    "batch_write_update_medidas('items', quadros_ids, '300 x 120 x 4 (AxCxL)')"
   ]
  },
  {
   "cell_type": "markdown",
   "metadata": {},
   "source": [
    "## MESA PARA ESCRITÓRIO II"
   ]
  },
  {
   "cell_type": "code",
   "execution_count": 68,
   "metadata": {},
   "outputs": [],
   "source": [
    "mesa_II = get_item_by_key(359999)"
   ]
  },
  {
   "cell_type": "code",
   "execution_count": 69,
   "metadata": {},
   "outputs": [],
   "source": [
    "mesas_II = list(filter_list_of_dicts(data, 'short_descricao', mesa_II[\"short_descricao\"]))"
   ]
  },
  {
   "cell_type": "code",
   "execution_count": 71,
   "metadata": {},
   "outputs": [
    {
     "data": {
      "text/plain": [
       "76"
      ]
     },
     "execution_count": 71,
     "metadata": {},
     "output_type": "execute_result"
    }
   ],
   "source": [
    "len(mesas_II)"
   ]
  },
  {
   "cell_type": "code",
   "execution_count": 73,
   "metadata": {},
   "outputs": [],
   "source": [
    "ids_mesas_II = [ x['key'] for x in mesas_II  if x[\"detalhes\"][\"descricao\"] == mesa_II[\"detalhes\"][\"descricao\"] ]"
   ]
  },
  {
   "cell_type": "code",
   "execution_count": 75,
   "metadata": {},
   "outputs": [
    {
     "name": "stdout",
     "output_type": "stream",
     "text": [
      "items: chunk 1 (30 documents)\n"
     ]
    }
   ],
   "source": [
    "batch_write_update_medidas('items', ids_mesas_II, '75 x 140 x 65 (AxCxL)')"
   ]
  },
  {
   "cell_type": "markdown",
   "metadata": {},
   "source": [
    "## COMPUTADOR DESKTOP (SFF) DE USO GERAL"
   ]
  },
  {
   "cell_type": "markdown",
   "metadata": {},
   "source": [
    "### DELL OPTIPLEX 5050 "
   ]
  },
  {
   "cell_type": "code",
   "execution_count": 99,
   "metadata": {},
   "outputs": [],
   "source": [
    "computadorSSF1 = get_item_by_key(338116)"
   ]
  },
  {
   "cell_type": "code",
   "execution_count": 100,
   "metadata": {},
   "outputs": [],
   "source": [
    "computadoresSSF1 = list(filter_list_of_dicts(data, 'short_descricao', computadorSSF1[\"short_descricao\"]))"
   ]
  },
  {
   "cell_type": "code",
   "execution_count": 101,
   "metadata": {},
   "outputs": [],
   "source": [
    "compuiuters_ids1 = [ x['key'] for x in computadoresSSF  if x[\"detalhes\"][\"descricao\"] == computadorSSF1[\"detalhes\"][\"descricao\"] ]"
   ]
  },
  {
   "cell_type": "code",
   "execution_count": 82,
   "metadata": {},
   "outputs": [
    {
     "name": "stdout",
     "output_type": "stream",
     "text": [
      "items: chunk 1 (27 documents)\n"
     ]
    }
   ],
   "source": [
    "batch_write_update_medidas('items', compuiuters_ids1, '10 x 29 x 29 (AxCxL)')"
   ]
  },
  {
   "cell_type": "markdown",
   "metadata": {},
   "source": [
    "### HP PRODESK 600"
   ]
  },
  {
   "cell_type": "code",
   "execution_count": 103,
   "metadata": {},
   "outputs": [],
   "source": [
    "computadorSSF2 = get_item_by_key(337701)"
   ]
  },
  {
   "cell_type": "code",
   "execution_count": 105,
   "metadata": {},
   "outputs": [],
   "source": [
    "computadoresSSF2 = list(filter_list_of_dicts(data, 'short_descricao', computadorSSF2[\"short_descricao\"]))"
   ]
  },
  {
   "cell_type": "code",
   "execution_count": 106,
   "metadata": {},
   "outputs": [],
   "source": [
    "compuiuters_ids2 = [ x['key'] for x in computadoresSSF2  if x[\"detalhes\"][\"descricao\"] == computadorSSF2[\"detalhes\"][\"descricao\"] ]"
   ]
  },
  {
   "cell_type": "code",
   "execution_count": 107,
   "metadata": {},
   "outputs": [
    {
     "name": "stdout",
     "output_type": "stream",
     "text": [
      "items: chunk 1 (22 documents)\n"
     ]
    }
   ],
   "source": [
    "batch_write_update_medidas('items', compuiuters_ids2, '10 x 38 x 34 (AxCxL)')"
   ]
  },
  {
   "cell_type": "markdown",
   "metadata": {},
   "source": [
    "### DELL OPTIPLEX 3080"
   ]
  },
  {
   "cell_type": "code",
   "execution_count": 113,
   "metadata": {},
   "outputs": [],
   "source": [
    "computadorSSF3 = get_item_by_key(364186)"
   ]
  },
  {
   "cell_type": "code",
   "execution_count": 114,
   "metadata": {},
   "outputs": [],
   "source": [
    "computadoresSSF3 = list(filter_list_of_dicts(data, 'short_descricao', computadorSSF3[\"short_descricao\"]))"
   ]
  },
  {
   "cell_type": "code",
   "execution_count": 115,
   "metadata": {},
   "outputs": [],
   "source": [
    "computadoresSSF3ids = [ x['key'] for x in computadoresSSF3  if x[\"detalhes\"][\"descricao\"] == computadorSSF3[\"detalhes\"][\"descricao\"] ]"
   ]
  },
  {
   "cell_type": "code",
   "execution_count": 116,
   "metadata": {},
   "outputs": [
    {
     "name": "stdout",
     "output_type": "stream",
     "text": [
      "items: chunk 1 (18 documents)\n"
     ]
    }
   ],
   "source": [
    "batch_write_update_medidas('items', computadoresSSF3ids, '5 x 18 x 19 (AxCxL)')"
   ]
  },
  {
   "cell_type": "markdown",
   "metadata": {},
   "source": [
    "## MONITOR P/ESTACAO DE TRABALHO"
   ]
  },
  {
   "cell_type": "code",
   "execution_count": 90,
   "metadata": {},
   "outputs": [
    {
     "data": {
      "text/plain": [
       "{'responsavel': 'Cristiano da Silva Teixeira',\n",
       " 'ambiente': 'B021',\n",
       " 'edificio': 'BNU03 - Bloco Acadêmico B',\n",
       " 'detalhes': {'patrimonio': 1001703,\n",
       "  'n_controle': None,\n",
       "  'cod_barras': 387062,\n",
       "  'n_serie': '3SDYB03',\n",
       "  'descricao': \"MONITOR P/ESTACAO DE TRABALHO - MONITOR DELL DE 21,5'', MODELO P2219H, ACOMPANHA CABOS E MANUAL, 220V.\",\n",
       "  'conservacao': 'EM USO',\n",
       "  'incorporacao': '22/10/2020',\n",
       "  'transf_local': '16/11/2022',\n",
       "  'valor': 396.21,\n",
       "  'situacao': 'Ativo',\n",
       "  'peso': '',\n",
       "  'medidas': ''},\n",
       " 'short_descricao': 'MONITOR P/ESTACAO DE TRABALHO',\n",
       " 'origem': 'B021',\n",
       " 'key': 387062,\n",
       " 'meta': {'inteiro': True,\n",
       "  'updated': '29/09/2023 10:51:30',\n",
       "  'partes': [],\n",
       "  'volumado': False,\n",
       "  'volume': None},\n",
       " 'tipo': 'Permanente'}"
      ]
     },
     "execution_count": 90,
     "metadata": {},
     "output_type": "execute_result"
    }
   ],
   "source": [
    "monitor_estacao = get_item_by_key(387062)\n",
    "monitor_estacao"
   ]
  },
  {
   "cell_type": "code",
   "execution_count": 84,
   "metadata": {},
   "outputs": [],
   "source": [
    "monitores_estacao = list(filter_list_of_dicts(data, 'short_descricao', monitor_estacao[\"short_descricao\"]))"
   ]
  },
  {
   "cell_type": "code",
   "execution_count": 91,
   "metadata": {},
   "outputs": [],
   "source": [
    "monitores_estacao_ids = [ x['key'] for x in monitores_estacao ]"
   ]
  },
  {
   "cell_type": "code",
   "execution_count": 89,
   "metadata": {},
   "outputs": [
    {
     "data": {
      "text/plain": [
       "{'MONITOR P/ESTACAO DE TRABALHO - MARCA: DELL; MODELO P2422H, EM LCD 23,8 POLEGADAS, COR PRETA, ACOMPANHA CD, CABO. BIVOLT.',\n",
       " \"MONITOR P/ESTACAO DE TRABALHO - MONITOR DELL DE 21,5'', MODELO P2219H, ACOMPANHA CABOS E MANUAL, 220V.\",\n",
       " \"MONITOR P/ESTACAO DE TRABALHO - MONITOR DELL DE 21,5'', MODELO P2419H, ACOMPANHA CABOS E MANUAL, 220V.\",\n",
       " \"MONITOR P/ESTACAO DE TRABALHO - MONITOR DELL DE 23,8'', MODELO P2422H, ACOMPANHA CABOS E MANUAL, 220V.\"}"
      ]
     },
     "execution_count": 89,
     "metadata": {},
     "output_type": "execute_result"
    }
   ],
   "source": [
    "set([ x['detalhes']['descricao'] for x in  monitores_estacao])"
   ]
  },
  {
   "cell_type": "code",
   "execution_count": 92,
   "metadata": {},
   "outputs": [
    {
     "name": "stdout",
     "output_type": "stream",
     "text": [
      "items: chunk 1 (74 documents)\n"
     ]
    }
   ],
   "source": [
    "batch_write_update_medidas('items', monitores_estacao_ids, '50 x 54 x 18 (AxCxL)')"
   ]
  },
  {
   "cell_type": "markdown",
   "metadata": {},
   "source": [
    "## CADEIRA ESCOLAR"
   ]
  },
  {
   "cell_type": "code",
   "execution_count": 93,
   "metadata": {},
   "outputs": [],
   "source": [
    "cadeira_escolar = get_item_by_key(139450)"
   ]
  },
  {
   "cell_type": "code",
   "execution_count": 94,
   "metadata": {},
   "outputs": [],
   "source": [
    "cadeiras_escolares = list(filter_list_of_dicts(data, 'short_descricao', cadeira_escolar[\"short_descricao\"]))"
   ]
  },
  {
   "cell_type": "code",
   "execution_count": 96,
   "metadata": {},
   "outputs": [
    {
     "data": {
      "text/plain": [
       "{'CADEIRA ESCOLAR - C/ASSENTO E ENCOSTO EM POLIPROPILENO NA COR OVO, EM ESTRUTURA DE FERRO NA COR AZUL, C/PRNCHETA FRONTAL MOVEL REVESTIDA DE FORMICA, MED. 89CM DE ALTURA.',\n",
       " 'CADEIRA ESCOLAR - C/ASSENTO E ENCOSTO EM POLIPROPILENO NA COR OVO, EM ESTRUTURA DE FERRO TUBULAR NA COR AZUL, C/PRANCHETA FRONTAL MOVEL REVESTIDA DE FORMICA, MED. 89CM DE ALTURA.',\n",
       " 'CADEIRA ESCOLAR - ESTOFADA EM COURVIN PRETO, EM ESTRUTURA DE FERRO PRETO, C/BRACO MESA EM ARVOPLAC, C/SUP. P/LIVROS, MED. 80CM DE ALTURA.'}"
      ]
     },
     "execution_count": 96,
     "metadata": {},
     "output_type": "execute_result"
    }
   ],
   "source": [
    "set([ x['detalhes']['descricao'] for x in  cadeiras_escolares])"
   ]
  },
  {
   "cell_type": "code",
   "execution_count": 97,
   "metadata": {},
   "outputs": [],
   "source": [
    "cadeiras_escolares_ids = [ x['key'] for x in cadeiras_escolares ]"
   ]
  },
  {
   "cell_type": "code",
   "execution_count": 98,
   "metadata": {},
   "outputs": [
    {
     "name": "stdout",
     "output_type": "stream",
     "text": [
      "items: chunk 1 (29 documents)\n"
     ]
    }
   ],
   "source": [
    "batch_write_update_medidas('items', cadeiras_escolares_ids, '89 x 76 x 50 (AxCxL)')"
   ]
  },
  {
   "cell_type": "markdown",
   "metadata": {},
   "source": [
    "## MESA REUNIÃO REDONDA"
   ]
  },
  {
   "cell_type": "code",
   "execution_count": 108,
   "metadata": {},
   "outputs": [],
   "source": [
    "mesa_redonda = get_item_by_key(315370)"
   ]
  },
  {
   "cell_type": "code",
   "execution_count": 109,
   "metadata": {},
   "outputs": [],
   "source": [
    "mesas_redondas = list(filter_list_of_dicts(data, 'short_descricao', mesa_redonda[\"short_descricao\"]))"
   ]
  },
  {
   "cell_type": "code",
   "execution_count": 111,
   "metadata": {},
   "outputs": [],
   "source": [
    "mesas_redondas_ids = [ x['key'] for x in mesas_redondas ]"
   ]
  },
  {
   "cell_type": "code",
   "execution_count": 112,
   "metadata": {},
   "outputs": [
    {
     "name": "stdout",
     "output_type": "stream",
     "text": [
      "items: chunk 1 (20 documents)\n"
     ]
    }
   ],
   "source": [
    "batch_write_update_medidas('items', mesas_redondas_ids, '75 x 120 x 120 (AxCxL)')"
   ]
  },
  {
   "cell_type": "code",
   "execution_count": 127,
   "metadata": {},
   "outputs": [],
   "source": [
    "import subprocess\n",
    "import shlex\n",
    "\n",
    "comando = 'grep -P \"(\\d+) documents\" AplicandoMedidas.ipynb'\n",
    "\n",
    "resultado = subprocess.run(shlex.split(comando), stdout=subprocess.PIPE)\n",
    "\n",
    "texto = resultado.stdout.decode('utf-8')"
   ]
  },
  {
   "cell_type": "code",
   "execution_count": 130,
   "metadata": {},
   "outputs": [
    {
     "data": {
      "text/plain": [
       "2418"
      ]
     },
     "execution_count": 130,
     "metadata": {},
     "output_type": "execute_result"
    }
   ],
   "source": [
    "sum([int(x) for x in re.findall(r'\\d+', texto)])"
   ]
  },
  {
   "cell_type": "code",
   "execution_count": null,
   "metadata": {},
   "outputs": [],
   "source": []
  }
 ],
 "metadata": {
  "kernelspec": {
   "display_name": "pythonSDK-zBAoyeeM",
   "language": "python",
   "name": "python3"
  },
  "language_info": {
   "codemirror_mode": {
    "name": "ipython",
    "version": 3
   },
   "file_extension": ".py",
   "mimetype": "text/x-python",
   "name": "python",
   "nbconvert_exporter": "python",
   "pygments_lexer": "ipython3",
   "version": "3.10.8"
  }
 },
 "nbformat": 4,
 "nbformat_minor": 2
}
