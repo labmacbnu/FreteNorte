{
 "cells": [
  {
   "cell_type": "code",
   "execution_count": 1,
   "metadata": {},
   "outputs": [],
   "source": [
    "import pandas as pd\n",
    "from pathlib import Path"
   ]
  },
  {
   "cell_type": "code",
   "execution_count": 2,
   "metadata": {},
   "outputs": [],
   "source": [
    "# puxa os dados direto da fonte\n",
    "URL = \"https://docs.google.com/spreadsheets/d/1mHfc3UE_vJ6vKhufAzYNsOpEPQW-GDPG6q5TchyO9Ms/export?format=csv\""
   ]
  },
  {
   "cell_type": "code",
   "execution_count": 3,
   "metadata": {},
   "outputs": [],
   "source": [
    "df = pd.read_csv(URL, skiprows=1, usecols=range(1,26), decimal=',', thousands='.')"
   ]
  },
  {
   "cell_type": "code",
   "execution_count": 4,
   "metadata": {},
   "outputs": [],
   "source": [
    "df = df[~df.Código.isna()].copy()"
   ]
  },
  {
   "cell_type": "code",
   "execution_count": 5,
   "metadata": {},
   "outputs": [],
   "source": [
    "df.drop(columns=df.columns[15:], inplace=True)"
   ]
  },
  {
   "cell_type": "code",
   "execution_count": 6,
   "metadata": {},
   "outputs": [],
   "source": [
    "def rewrite_columns(string):\n",
    "    replacing = [(\" \", \"_\"), (\"ã\", \"a\"), (\"á\", \"a\"), (\"õ\", \"o\"), (\"²\", \"\"), (\"ç\", \"c\"), (\"é\", \"e\"), (\"í\", \"i\"), (\"ó\", \"o\"), (\"ú\", \"u\"), (\"(\", \"\"), (\")\", \"\"), (\"%\", \"\")]\n",
    "    for pair in replacing:\n",
    "        string = string.replace(pair[0], pair[1])\n",
    "    return string.lower()\n",
    "\n",
    "\n",
    "df.columns = [rewrite_columns(x) for x in df.columns]"
   ]
  },
  {
   "cell_type": "code",
   "execution_count": 7,
   "metadata": {},
   "outputs": [],
   "source": [
    "ambientes_origem = [x for x in df.columns if 'ambiente_origem' in x]\n",
    "\n",
    "df[\"origem\"] =  df[ambientes_origem].apply(lambda x: [ amb.split(' - ')[0] for amb in x.values if type(amb) == str ], axis=1)\n",
    "\n",
    "df.drop(columns=ambientes_origem, inplace=True)"
   ]
  },
  {
   "cell_type": "code",
   "execution_count": 8,
   "metadata": {},
   "outputs": [
    {
     "name": "stderr",
     "output_type": "stream",
     "text": [
      "/tmp/ipykernel_953566/2065217620.py:1: FutureWarning: Setting an item of incompatible dtype is deprecated and will raise in a future error of pandas. Value '' has dtype incompatible with float64, please explicitly cast to a compatible dtype first.\n",
      "  df.fillna(\"\", inplace=True)\n"
     ]
    }
   ],
   "source": [
    "df.fillna(\"\", inplace=True)"
   ]
  },
  {
   "cell_type": "code",
   "execution_count": 9,
   "metadata": {},
   "outputs": [],
   "source": [
    "dicionarios = df.to_dict('records')"
   ]
  },
  {
   "cell_type": "code",
   "execution_count": 10,
   "metadata": {},
   "outputs": [],
   "source": [
    "registros = []\n",
    "\n",
    "for item in dicionarios:\n",
    "    key = item.pop('codigo')\n",
    "    nome = item.pop('nome')\n",
    "    origem = item.pop('origem')\n",
    "    registros.append({\n",
    "        'nome': nome,\n",
    "        'origem': origem,\n",
    "        'codigo': key,\n",
    "        'campus': 'Norte',\n",
    "        'detalhes':  item})"
   ]
  },
  {
   "cell_type": "code",
   "execution_count": 11,
   "metadata": {},
   "outputs": [],
   "source": [
    "import json \n",
    "\n",
    "OUTPUT_PATH = Path(\"json0929\") / \"ambientes-norte.json\"\n",
    "\n",
    "with open(OUTPUT_PATH, \"w\") as fP:\n",
    "    json.dump(registros, fP, indent=2, ensure_ascii=False)"
   ]
  },
  {
   "cell_type": "code",
   "execution_count": null,
   "metadata": {},
   "outputs": [],
   "source": []
  }
 ],
 "metadata": {
  "kernelspec": {
   "display_name": "pythonSDK-LVh34mfm",
   "language": "python",
   "name": "python3"
  },
  "language_info": {
   "codemirror_mode": {
    "name": "ipython",
    "version": 3
   },
   "file_extension": ".py",
   "mimetype": "text/x-python",
   "name": "python",
   "nbconvert_exporter": "python",
   "pygments_lexer": "ipython3",
   "version": "3.10.8"
  },
  "orig_nbformat": 4
 },
 "nbformat": 4,
 "nbformat_minor": 2
}
