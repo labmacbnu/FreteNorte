{
 "cells": [
  {
   "cell_type": "code",
   "execution_count": 1,
   "metadata": {},
   "outputs": [],
   "source": [
    "import firebase_admin\n",
    "from firebase_admin import credentials\n",
    "from firebase_admin import firestore, auth\n",
    "from datetime import datetime\n",
    "import json \n",
    "from dotenv import load_dotenv\n",
    "from random import randint\n",
    "import os\n",
    "\n",
    "\n",
    "load_dotenv()\n",
    "\n",
    "cred = credentials.Certificate(os.getenv(\"firebase_secret\"))\n",
    "app = firebase_admin.initialize_app(cred)\n",
    "\n",
    "\n",
    "db = firestore.client()"
   ]
  },
  {
   "cell_type": "code",
   "execution_count": 2,
   "metadata": {},
   "outputs": [],
   "source": [
    "from firebase_admin.firestore import FieldFilter"
   ]
  },
  {
   "cell_type": "code",
   "execution_count": 3,
   "metadata": {},
   "outputs": [
    {
     "name": "stderr",
     "output_type": "stream",
     "text": [
      "/home/bossa/.local/share/virtualenvs/pythonSDK-zBAoyeeM/lib/python3.10/site-packages/google/cloud/firestore_v1/base_collection.py:290: UserWarning: Detected filter using positional arguments. Prefer using the 'filter' keyword argument instead.\n",
      "  return query.where(field_path, op_string, value)\n"
     ]
    }
   ],
   "source": [
    "nao_permanentes = db.collection(\"items\").where(\"tipo\", \"!=\", \"Permanente\")"
   ]
  },
  {
   "cell_type": "code",
   "execution_count": 4,
   "metadata": {},
   "outputs": [],
   "source": [
    "for doc in nao_permanentes.stream():\n",
    "    db.collection(\"items\").document(doc.id).delete()"
   ]
  },
  {
   "cell_type": "code",
   "execution_count": 14,
   "metadata": {},
   "outputs": [],
   "source": [
    "import json\n",
    "with open(\"json/permanentes.json\") as fp:\n",
    "    permanentes = json.load(fp)"
   ]
  },
  {
   "cell_type": "code",
   "execution_count": 5,
   "metadata": {},
   "outputs": [],
   "source": [
    "def find_permanente_by_key(key: int):\n",
    "    pesquisa = [ x for x in permanentes if x['key'] == key ]\n",
    "    if len(pesquisa) > 0:\n",
    "        return pesquisa[0]\n",
    "    else:\n",
    "        return None"
   ]
  },
  {
   "cell_type": "code",
   "execution_count": 12,
   "metadata": {},
   "outputs": [],
   "source": [
    "nao_inteiros = db.collection(\"items\").where(filter=FieldFilter(\"meta.inteiro\", \"==\", False))\n",
    "\n",
    "for doc in nao_inteiros.stream(): \n",
    "    doc.reference.update({'meta.inteiro': True, 'meta.partes': []})"
   ]
  },
  {
   "cell_type": "code",
   "execution_count": 23,
   "metadata": {},
   "outputs": [],
   "source": [
    "nao_inteiros = db.collection(\"items\").where(filter=FieldFilter(\"meta.inteiro\", \"==\", False))\n",
    "\n",
    "for doc in nao_inteiros.stream():\n",
    "    doc.reference.set(find_permanente_by_key(int(doc.id)))"
   ]
  },
  {
   "cell_type": "code",
   "execution_count": 12,
   "metadata": {},
   "outputs": [],
   "source": [
    "db.document(\"ambientes/A004\")\n",
    "\n",
    "A004 = db.collection(\"items\").where(filter=FieldFilter(\"ambiente\", \"==\", db.document(\"ambientes/A004\"))).stream()"
   ]
  },
  {
   "cell_type": "code",
   "execution_count": 13,
   "metadata": {},
   "outputs": [
    {
     "name": "stdout",
     "output_type": "stream",
     "text": [
      "{'volume': None, 'updated': DatetimeWithNanoseconds(2023, 8, 7, 17, 2, 55, tzinfo=datetime.timezone.utc), 'inteiro': True, 'volumado': False, 'partes': []}\n",
      "183958\n",
      "{'volume': None, 'updated': DatetimeWithNanoseconds(2023, 8, 7, 17, 2, 55, tzinfo=datetime.timezone.utc), 'inteiro': True, 'volumado': False, 'partes': []}\n",
      "{'volume': None, 'updated': DatetimeWithNanoseconds(2023, 8, 7, 17, 2, 55, tzinfo=datetime.timezone.utc), 'inteiro': True, 'volumado': False, 'partes': []}\n",
      "{'volume': None, 'updated': DatetimeWithNanoseconds(2023, 8, 7, 17, 2, 55, tzinfo=datetime.timezone.utc), 'inteiro': True, 'volumado': False, 'partes': []}\n",
      "{'volume': None, 'updated': DatetimeWithNanoseconds(2023, 8, 7, 17, 2, 55, tzinfo=datetime.timezone.utc), 'inteiro': True, 'volumado': False, 'partes': []}\n",
      "{'volume': None, 'updated': DatetimeWithNanoseconds(2023, 8, 7, 17, 2, 55, tzinfo=datetime.timezone.utc), 'inteiro': True, 'volumado': False, 'partes': []}\n",
      "{'volume': None, 'updated': DatetimeWithNanoseconds(2023, 8, 7, 17, 2, 55, tzinfo=datetime.timezone.utc), 'inteiro': True, 'volumado': False, 'partes': []}\n",
      "{'volume': None, 'updated': DatetimeWithNanoseconds(2023, 8, 7, 17, 2, 55, tzinfo=datetime.timezone.utc), 'inteiro': True, 'volumado': False, 'partes': []}\n",
      "{'volume': None, 'updated': DatetimeWithNanoseconds(2023, 8, 7, 17, 2, 55, tzinfo=datetime.timezone.utc), 'inteiro': True, 'volumado': False, 'partes': []}\n",
      "{'volume': None, 'updated': DatetimeWithNanoseconds(2023, 8, 7, 17, 2, 55, tzinfo=datetime.timezone.utc), 'inteiro': True, 'volumado': False, 'partes': []}\n",
      "{'volume': None, 'updated': DatetimeWithNanoseconds(2023, 8, 7, 17, 2, 55, tzinfo=datetime.timezone.utc), 'inteiro': True, 'volumado': False, 'partes': []}\n",
      "{'volume': None, 'updated': DatetimeWithNanoseconds(2023, 8, 7, 17, 2, 55, tzinfo=datetime.timezone.utc), 'inteiro': True, 'volumado': False, 'partes': []}\n",
      "{'volume': None, 'updated': DatetimeWithNanoseconds(2023, 8, 7, 17, 2, 55, tzinfo=datetime.timezone.utc), 'inteiro': True, 'volumado': False, 'partes': []}\n",
      "{'volume': None, 'updated': DatetimeWithNanoseconds(2023, 8, 7, 17, 2, 55, tzinfo=datetime.timezone.utc), 'inteiro': True, 'volumado': False, 'partes': []}\n",
      "{'volume': None, 'updated': DatetimeWithNanoseconds(2023, 8, 7, 17, 2, 55, tzinfo=datetime.timezone.utc), 'inteiro': True, 'volumado': False, 'partes': []}\n",
      "{'volume': None, 'updated': DatetimeWithNanoseconds(2023, 8, 7, 17, 2, 55, tzinfo=datetime.timezone.utc), 'inteiro': True, 'volumado': False, 'partes': []}\n",
      "{'volume': None, 'updated': DatetimeWithNanoseconds(2023, 8, 7, 17, 2, 55, tzinfo=datetime.timezone.utc), 'inteiro': True, 'volumado': False, 'partes': []}\n",
      "{'volume': None, 'updated': DatetimeWithNanoseconds(2023, 8, 7, 17, 2, 55, tzinfo=datetime.timezone.utc), 'inteiro': True, 'volumado': False, 'partes': []}\n",
      "{'volume': None, 'updated': DatetimeWithNanoseconds(2023, 8, 7, 17, 2, 55, tzinfo=datetime.timezone.utc), 'inteiro': True, 'volumado': False, 'partes': []}\n",
      "{'volume': None, 'updated': DatetimeWithNanoseconds(2023, 8, 7, 17, 2, 55, tzinfo=datetime.timezone.utc), 'inteiro': True, 'volumado': False, 'partes': []}\n"
     ]
    }
   ],
   "source": [
    "for doc in A004:\n",
    "    dicio = doc.to_dict()\n",
    "    if \"meta\" in dicio:\n",
    "        print(dicio[\"meta\"])\n",
    "    else: \n",
    "        print(doc.id)"
   ]
  },
  {
   "cell_type": "code",
   "execution_count": null,
   "metadata": {},
   "outputs": [],
   "source": []
  }
 ],
 "metadata": {
  "kernelspec": {
   "display_name": "pythonSDK-zBAoyeeM",
   "language": "python",
   "name": "python3"
  },
  "language_info": {
   "codemirror_mode": {
    "name": "ipython",
    "version": 3
   },
   "file_extension": ".py",
   "mimetype": "text/x-python",
   "name": "python",
   "nbconvert_exporter": "python",
   "pygments_lexer": "ipython3",
   "version": "3.10.8"
  },
  "orig_nbformat": 4
 },
 "nbformat": 4,
 "nbformat_minor": 2
}
