{
 "cells": [
  {
   "cell_type": "code",
   "execution_count": 1,
   "metadata": {},
   "outputs": [],
   "source": [
    "import firebase_admin\n",
    "from firebase_admin import credentials\n",
    "from firebase_admin import firestore, auth\n",
    "from firebase_admin.firestore import FieldFilter\n",
    "from google.cloud.firestore_v1.document import DocumentReference\n",
    "\n",
    "\n",
    "from datetime import datetime\n",
    "import json \n",
    "from dotenv import load_dotenv\n",
    "from random import randint\n",
    "import os\n",
    "import re\n",
    "class bcolors:\n",
    "    HEADER = '\\033[95m'\n",
    "    OKBLUE = '\\033[94m'\n",
    "    OKCYAN = '\\033[96m'\n",
    "    OKGREEN = '\\033[92m'\n",
    "    WARNING = '\\033[93m'\n",
    "    FAIL = '\\033[91m'\n",
    "    ENDC = '\\033[0m'\n",
    "    BOLD = '\\033[1m'\n",
    "    UNDERLINE = '\\033[4m'\n",
    "\n",
    "load_dotenv()\n",
    "\n",
    "cred = credentials.Certificate(os.getenv(\"firebase_secret\"))\n",
    "app = firebase_admin.initialize_app(cred)\n",
    "\n",
    "\n",
    "db = firestore.client()\n",
    "\n",
    "\n",
    "def load_json_file(filename):\n",
    "    with open(filename) as fp:\n",
    "        content = json.load(fp)\n",
    "    return content\n"
   ]
  },
  {
   "cell_type": "code",
   "execution_count": 4,
   "metadata": {},
   "outputs": [],
   "source": [
    "\n",
    "def process_reference(reference: DocumentReference):\n",
    "    return reference.path\n",
    "\n",
    "def process_array(array: list):\n",
    "    return [process_reference(item) if type(item) == DocumentReference else item for item in array]\n",
    "\n",
    "def process_dict(input_dict):\n",
    "    output_dict = {}\n",
    "    for key, value in input_dict.items():\n",
    "        if type(value) == DocumentReference:\n",
    "            output_dict[key] = process_reference(value)\n",
    "        elif isinstance(value, dict):\n",
    "            output_dict[key] = process_dict(value)\n",
    "        elif isinstance(value, list):\n",
    "            output_dict[key] = process_array(value)\n",
    "        elif isinstance(value, datetime):\n",
    "            output_dict[key] = value.isoformat()\n",
    "        else:\n",
    "            output_dict[key] = value\n",
    "    return output_dict"
   ]
  },
  {
   "cell_type": "markdown",
   "metadata": {},
   "source": [
    "## Carregamentos"
   ]
  },
  {
   "cell_type": "code",
   "execution_count": 12,
   "metadata": {},
   "outputs": [],
   "source": [
    "pesquisa = db.collection(\"lotes\").where(filter=FieldFilter(\"tipo\", \"==\", \"Carregamento\"))\n",
    "\n",
    "CARREGAMENTOS = {}\n",
    "for document in pesquisa.stream():\n",
    "    data = document.to_dict() \n",
    "    CARREGAMENTOS[document.id] = process_dict(data)"
   ]
  },
  {
   "cell_type": "code",
   "execution_count": 13,
   "metadata": {},
   "outputs": [],
   "source": [
    "pesquisa = db.collection(\"lotes\").where(filter=FieldFilter(\"tipo\", \"==\", \"Descarregamento\"))\n",
    "\n",
    "DESCARREGAMENTOS = {}\n",
    "for document in pesquisa.stream():\n",
    "    data = document.to_dict() \n",
    "    DESCARREGAMENTOS[document.id] = process_dict(data)"
   ]
  },
  {
   "cell_type": "code",
   "execution_count": 15,
   "metadata": {},
   "outputs": [],
   "source": [
    "import json \n",
    "\n",
    "with open(\"../json0704/carregamentos.json\", \"w\") as fp:\n",
    "    json.dump(CARREGAMENTOS, fp, indent=4, ensure_ascii=False)\n",
    "\n",
    "with open(\"../json0704/descarregamentos.json\", \"w\") as fp:\n",
    "    json.dump(DESCARREGAMENTOS, fp, indent=4, ensure_ascii=False)"
   ]
  },
  {
   "cell_type": "markdown",
   "metadata": {},
   "source": [
    "## Gravação em lote"
   ]
  },
  {
   "cell_type": "code",
   "execution_count": 16,
   "metadata": {},
   "outputs": [],
   "source": [
    "from datetime import datetime"
   ]
  },
  {
   "cell_type": "code",
   "execution_count": 28,
   "metadata": {},
   "outputs": [],
   "source": [
    "for key, value in DESCARREGAMENTOS.items(): \n",
    "    data_criado = datetime.fromisoformat(value[\"data_criado\"])\n",
    "    volumes = value[\"volumes\"]\n",
    "    responsavel = db.document(value[\"responsavel\"])\n",
    "    sala_ref = db.document(value[\"sala\"]) \n",
    "    lote_ref = db.document(f\"lotes/{key}\")\n",
    "    \"\"\"\n",
    "    atualizar: volume.localizacao_atual: sala_ref\n",
    "    movimentos/${volume_id}\n",
    "    descarregado: { \n",
    "                    data_hora: lote.data_criado,\n",
    "                    resposavel: lote.responsavel,\n",
    "                    sala: sala_ref,\n",
    "                    lote: lote_ref\n",
    "                }\n",
    "    \"\"\"\n",
    "    volumes_refs = map(lambda volume: db.document(volume), volumes)\n",
    "    batch = db.batch()\n",
    "    for volume_ref in volumes_refs:\n",
    "        volume_id = volume_ref.id\n",
    "        batch.update(volume_ref, {\"localizacao_atual\": sala_ref})\n",
    "        movimento_ref = db.document(f\"movimentos/{volume_id}\")\n",
    "        if movimento_ref.get().exists:\n",
    "            batch.update(movimento_ref, {\"descarregado\": {\n",
    "                \"data_hora\": data_criado,\n",
    "                \"responsavel\": responsavel,\n",
    "                \"sala\": sala_ref,\n",
    "                \"lote\": lote_ref\n",
    "            }})\n",
    "        else:\n",
    "            batch.set(movimento_ref, {\"descarregado\": {\n",
    "            \"data_hora\": data_criado,\n",
    "            \"responsavel\": responsavel,\n",
    "            \"sala\": sala_ref,\n",
    "            \"lote\": lote_ref\n",
    "        }}) \n",
    "    batch.commit() "
   ]
  },
  {
   "cell_type": "code",
   "execution_count": 29,
   "metadata": {},
   "outputs": [],
   "source": [
    "for key, value in CARREGAMENTOS.items(): \n",
    "    data_criado = datetime.fromisoformat(value[\"data_criado\"])\n",
    "    volumes = value[\"volumes\"]\n",
    "    responsavel = db.document(value[\"responsavel\"]) \n",
    "    lote_ref = db.document(f\"lotes/{key}\")\n",
    "    carregamento_ref = db.document(value[\"carregamento\"])\n",
    "    \"\"\"\n",
    "    atualizar: volume.localizacao_atual: sala_ref\n",
    "    movimentos/${volume_id}\n",
    "    descarregado: { \n",
    "                    data_hora: lote.data_criado,\n",
    "                    resposavel: lote.responsavel,\n",
    "                    sala: sala_ref,\n",
    "                    lote: lote_ref\n",
    "                }\n",
    "    \"\"\"\n",
    "    volumes_refs = map(lambda volume: db.document(volume), volumes)\n",
    "    batch = db.batch()\n",
    "    for volume_ref in volumes_refs:\n",
    "        volume_id = volume_ref.id \n",
    "        movimento_ref = db.document(f\"movimentos/{volume_id}\")\n",
    "        if movimento_ref.get().exists:\n",
    "            batch.update(movimento_ref, {\"carregado\": {\n",
    "                \"data_hora\": data_criado,\n",
    "                \"responsavel\": responsavel, \n",
    "                \"lote\": lote_ref,\n",
    "                \"carregamento\": carregamento_ref\n",
    "            }})\n",
    "        else:\n",
    "            batch.set(movimento_ref, {\"carregado\": {\n",
    "            \"data_hora\": data_criado,\n",
    "            \"responsavel\": responsavel,\n",
    "            \"lote\": lote_ref,\n",
    "            \"carregamento\": carregamento_ref\n",
    "        }}) \n",
    "    batch.commit() "
   ]
  },
  {
   "cell_type": "code",
   "execution_count": null,
   "metadata": {},
   "outputs": [],
   "source": []
  }
 ],
 "metadata": {
  "kernelspec": {
   "display_name": "pythonSDK-zBAoyeeM",
   "language": "python",
   "name": "python3"
  },
  "language_info": {
   "codemirror_mode": {
    "name": "ipython",
    "version": 3
   },
   "file_extension": ".py",
   "mimetype": "text/x-python",
   "name": "python",
   "nbconvert_exporter": "python",
   "pygments_lexer": "ipython3",
   "version": "3.10.8"
  },
  "orig_nbformat": 4
 },
 "nbformat": 4,
 "nbformat_minor": 2
}
