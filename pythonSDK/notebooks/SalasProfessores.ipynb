{
 "cells": [
  {
   "cell_type": "code",
   "execution_count": 1,
   "metadata": {},
   "outputs": [],
   "source": [
    "import firebase_admin\n",
    "from firebase_admin import credentials\n",
    "from firebase_admin import firestore, auth\n",
    "from datetime import datetime\n",
    "from dotenv import load_dotenv\n",
    "import os\n",
    "import json\n",
    "\n",
    "load_dotenv()\n",
    "\n",
    "cred = credentials.Certificate(os.getenv(\"firebase_secret\"))\n",
    "app = firebase_admin.initialize_app(cred)\n",
    "\n",
    "\n",
    "db = firestore.client()\n"
   ]
  },
  {
   "cell_type": "code",
   "execution_count": 22,
   "metadata": {},
   "outputs": [],
   "source": [
    "salas_destino = {\n",
    "  \"DET\": [\"B303\", \"B304\", \"B305\", \"B306\"],\n",
    "  \"MAT\": [\"B203\", \"B204\", \"B205\", \"B206\"],\n",
    "  \"EMT\": [\"B319\", \"B320\", \"B214\"],\n",
    "  \"CEE\": [\"B308\", \"B309\", \"B310\", \"B321\", \"B322\", \"B323\"],\n",
    "  \"CAC\": [\"B207\", \"B208\", \"B209\", \"B210\", \"B307\"]\n",
    "}\n"
   ]
  },
  {
   "cell_type": "code",
   "execution_count": 3,
   "metadata": {},
   "outputs": [],
   "source": [
    "import pandas as pd"
   ]
  },
  {
   "cell_type": "code",
   "execution_count": 4,
   "metadata": {},
   "outputs": [],
   "source": [
    "professores = pd.read_html(\"https://servidores.blumenau.ufsc.br/servidores-docentes/\")"
   ]
  },
  {
   "cell_type": "code",
   "execution_count": 5,
   "metadata": {},
   "outputs": [],
   "source": [
    "import requests \n",
    "pagecontent = requests.get(\"https://servidores.blumenau.ufsc.br/servidores-docentes/\").text\n"
   ]
  },
  {
   "cell_type": "code",
   "execution_count": 6,
   "metadata": {},
   "outputs": [],
   "source": [
    "\n",
    "import re\n",
    "\n",
    "def extract_text(html_string):\n",
    "    pattern = r'<h3>(.*?)</h3>'\n",
    "    match = re.findall(pattern, html_string, re.MULTILINE)\n",
    "    if match is None:\n",
    "        return ''\n",
    "    return [x for x in match]\n",
    "\n",
    "def extract_regex_group(html_string, pattern): \n",
    "    match = re.finditer(pattern, html_string, re.MULTILINE)\n",
    "    if match is None:\n",
    "        return ''\n",
    "    return [x.group(1) for x in match]\n"
   ]
  },
  {
   "cell_type": "code",
   "execution_count": 7,
   "metadata": {},
   "outputs": [],
   "source": [
    "ordem_tabelas = [extract_regex_group(x, r\"\\((.*?)\\)\")[0] for x in  extract_text(pagecontent)]"
   ]
  },
  {
   "cell_type": "code",
   "execution_count": 8,
   "metadata": {},
   "outputs": [],
   "source": [
    "for i in range(len(ordem_tabelas)):\n",
    "    professores[i][\"Departamento\"] = ordem_tabelas[i]"
   ]
  },
  {
   "cell_type": "code",
   "execution_count": 9,
   "metadata": {},
   "outputs": [],
   "source": [
    "professores = pd.concat(professores)"
   ]
  },
  {
   "cell_type": "code",
   "execution_count": 16,
   "metadata": {},
   "outputs": [],
   "source": [
    "salas_origem = {}\n",
    "for departamento in ordem_tabelas:\n",
    "    lista_salas = professores[professores[\"Departamento\"] == departamento][\"Sala\"].unique().tolist()\n",
    "    salas_C = [ x for x in lista_salas if type(x) == str and x.startswith(\"C\")]\n",
    "    salas_origem[departamento] = salas_C"
   ]
  },
  {
   "cell_type": "code",
   "execution_count": 24,
   "metadata": {},
   "outputs": [],
   "source": [
    "\n",
    "for key, val in salas_destino.items():\n",
    "    val.sort()\n",
    "\n",
    "for key, val in salas_origem.items():\n",
    "    val.sort()\n"
   ]
  },
  {
   "cell_type": "code",
   "execution_count": 25,
   "metadata": {},
   "outputs": [
    {
     "data": {
      "text/plain": [
       "({'DET': ['B303', 'B304', 'B305', 'B306'],\n",
       "  'MAT': ['B203', 'B204', 'B205', 'B206'],\n",
       "  'EMT': ['B214', 'B319', 'B320'],\n",
       "  'CEE': ['B308', 'B309', 'B310', 'B321', 'B322', 'B323'],\n",
       "  'CAC': ['B201', 'B207', 'B208', 'B209', 'B307']},\n",
       " {'EMT': ['C101'],\n",
       "  'CEE': ['C102', 'C201', 'C203', 'C204', 'C205'],\n",
       "  'CAC': ['C102', 'C202', 'C303', 'C304', 'C306'],\n",
       "  'DET': ['C204', 'C302', 'C305'],\n",
       "  'MAT': ['C202', 'C204', 'C301', 'C306']})"
      ]
     },
     "execution_count": 25,
     "metadata": {},
     "output_type": "execute_result"
    }
   ],
   "source": [
    "salas_destino, salas_origem"
   ]
  },
  {
   "cell_type": "markdown",
   "metadata": {},
   "source": [
    "# Atualizando DB"
   ]
  },
  {
   "cell_type": "code",
   "execution_count": 53,
   "metadata": {},
   "outputs": [],
   "source": [
    "from pathlib import Path\n",
    "\n",
    "ambientes_norte = Path(\"json0929/ambientes-norte.json\")\n",
    "\n",
    "with open(ambientes_norte) as f:\n",
    "    ambientes_norte = json.load(f)"
   ]
  },
  {
   "cell_type": "code",
   "execution_count": 51,
   "metadata": {},
   "outputs": [],
   "source": [
    "def get_sala(codigo):\n",
    "    return next(filter(lambda x: x[\"codigo\"] == codigo, ambientes_norte))"
   ]
  },
  {
   "cell_type": "code",
   "execution_count": 56,
   "metadata": {},
   "outputs": [
    {
     "name": "stdout",
     "output_type": "stream",
     "text": [
      "----- DET -----\n",
      "B303 : Sala de Professores 10\n",
      "B304 : Sala de Professores 11\n",
      "B305 : Sala de Professores 12\n",
      "B306 : Sala de Professores 13\n",
      "----- MAT -----\n",
      "B203 : Sala de Professores 01\n",
      "B204 : Sala de Professores 02\n",
      "B205 : Sala de Professores 03\n",
      "B206 : Sala de Professores 04\n",
      "----- EMT -----\n",
      "B214 : Sala de Professores 09\n",
      "B319 : Sala de Professores 18\n",
      "B320 : Sala de Professores 19\n",
      "----- CEE -----\n",
      "B308 : Sala de Professores 15\n",
      "B309 : Sala de Professores 16\n",
      "B310 : Sala de Professores 17\n",
      "B321 : Sala de Professores 20\n",
      "B322 : Sala de Professores 21\n",
      "B323 : Sala de Professores 22\n",
      "----- CAC -----\n",
      "B201 : Laboratórios de Informática I (LABINFO II)\n",
      "B207 : Sala de Professores 05\n",
      "B208 : Sala de Professores 06\n",
      "B209 : Sala de Professores 07\n",
      "B307 : Sala de Professores 14\n"
     ]
    }
   ],
   "source": [
    "for key, val in salas_destino.items():\n",
    "    origem = salas_origem[key]\n",
    "    print(\"-\"*5, key, \"-\"*5)\n",
    "    for codigo in val:\n",
    "        ambiente = get_sala(codigo) \n",
    "        print(codigo, \":\", ambiente[\"nome\"])\n",
    "        #print({\"nome\": f\"Sala professores {key}\", \"origem\": origem})"
   ]
  },
  {
   "cell_type": "code",
   "execution_count": 50,
   "metadata": {},
   "outputs": [
    {
     "data": {
      "text/plain": [
       "[{'codigo': 'A', 'nome': 'Sala Qualquer'},\n",
       " {'codigo': 'B', 'nome': 'Sala professores MAT'}]"
      ]
     },
     "execution_count": 50,
     "metadata": {},
     "output_type": "execute_result"
    }
   ],
   "source": [
    "\n",
    "# testing \n",
    "bababase = [{\n",
    "    \"codigo\": \"A\",\n",
    "    \"nome\": \"Sala professores DET\",\n",
    "}, {\n",
    "    \"codigo\": \"B\",\n",
    "    \"nome\": \"Sala professores MAT\",\n",
    "}]\n",
    "\n",
    "def get_sala_test(codigo):\n",
    "    return next(filter(lambda x: x[\"codigo\"] == codigo, bababase))\n",
    "\n",
    "test1 = get_sala_test(\"A\")\n",
    "test1[\"nome\"] = \"Sala Qualquer\"\n",
    "bababase\n"
   ]
  },
  {
   "cell_type": "code",
   "execution_count": null,
   "metadata": {},
   "outputs": [],
   "source": []
  }
 ],
 "metadata": {
  "kernelspec": {
   "display_name": "pythonSDK-zBAoyeeM",
   "language": "python",
   "name": "python3"
  },
  "language_info": {
   "codemirror_mode": {
    "name": "ipython",
    "version": 3
   },
   "file_extension": ".py",
   "mimetype": "text/x-python",
   "name": "python",
   "nbconvert_exporter": "python",
   "pygments_lexer": "ipython3",
   "version": "3.10.8"
  }
 },
 "nbformat": 4,
 "nbformat_minor": 2
}
