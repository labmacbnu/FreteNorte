{
 "cells": [
  {
   "cell_type": "code",
   "execution_count": 1,
   "metadata": {},
   "outputs": [],
   "source": [
    "import firebase_admin\n",
    "from firebase_admin import credentials\n",
    "from firebase_admin import firestore, auth\n",
    "from firebase_admin.firestore import FieldFilter\n",
    "from google.cloud.firestore_v1.document import DocumentReference\n",
    "from datetime import datetime\n",
    "import json \n",
    "from dotenv import load_dotenv\n",
    "from random import randint\n",
    "import os\n",
    "import re\n",
    "class bcolors:\n",
    "    HEADER = '\\033[95m'\n",
    "    OKBLUE = '\\033[94m'\n",
    "    OKCYAN = '\\033[96m'\n",
    "    OKGREEN = '\\033[92m'\n",
    "    WARNING = '\\033[93m'\n",
    "    FAIL = '\\033[91m'\n",
    "    ENDC = '\\033[0m'\n",
    "    BOLD = '\\033[1m'\n",
    "    UNDERLINE = '\\033[4m'\n",
    "\n",
    "load_dotenv()\n",
    "\n",
    "cred = credentials.Certificate(os.getenv(\"firebase_secret\"))\n",
    "app = firebase_admin.initialize_app(cred)\n",
    "\n",
    "\n",
    "db = firestore.client()\n",
    "\n",
    "\n",
    "def load_json_file(filename):\n",
    "    with open(filename) as fp:\n",
    "        content = json.load(fp)\n",
    "    return content\n"
   ]
  },
  {
   "cell_type": "code",
   "execution_count": 2,
   "metadata": {},
   "outputs": [],
   "source": [
    "def process_reference(reference: DocumentReference):\n",
    "    return reference.path\n",
    "\n",
    "def process_array(array: list):\n",
    "    return [process_reference(item) if type(item) == DocumentReference else item for item in array]\n",
    "\n",
    "def process_dict(input_dict):\n",
    "    output_dict = {}\n",
    "    for key, value in input_dict.items():\n",
    "        if type(value) == DocumentReference:\n",
    "            output_dict[key] = process_reference(value)\n",
    "        elif isinstance(value, dict):\n",
    "            output_dict[key] = process_dict(value)\n",
    "        elif isinstance(value, list):\n",
    "            output_dict[key] = process_array(value)\n",
    "        elif isinstance(value, datetime):\n",
    "            output_dict[key] = value.isoformat()\n",
    "        else:\n",
    "            output_dict[key] = value\n",
    "    return output_dict"
   ]
  },
  {
   "cell_type": "markdown",
   "metadata": {},
   "source": [
    "# Itens"
   ]
  },
  {
   "cell_type": "code",
   "execution_count": 3,
   "metadata": {},
   "outputs": [],
   "source": [
    "itens_stream = db.collection(\"items\").stream()\n",
    "\n",
    "itens = {} \n",
    "\n",
    "for item in itens_stream:\n",
    "    itens[item.id] = process_dict(item.to_dict())"
   ]
  },
  {
   "cell_type": "code",
   "execution_count": 4,
   "metadata": {},
   "outputs": [],
   "source": [
    "for key, val in itens.items():\n",
    "    itens[key] = process_dict(val)\n"
   ]
  },
  {
   "cell_type": "markdown",
   "metadata": {},
   "source": [
    "```python\n",
    "import json\n",
    "with open(\"json1123/itens.json\") as f:\n",
    "    itens = json.load(f)\n",
    "armarios_altos = filter(lambda x: x[\"short_descricao\"] == \"ARMÁRIO ALTO FECHADO\", itens.values())\n",
    "armarios_altos = list(armarios_altos)\n",
    "for armario in armarios_altos: \n",
    "    key = armario[\"key\"]\n",
    "    itens[str(key)][\"detalhes\"][\"medidas\"] = '160 x 50 x 80 (AxCxL)'\n",
    "```"
   ]
  },
  {
   "cell_type": "code",
   "execution_count": 5,
   "metadata": {},
   "outputs": [],
   "source": [
    "with open(\"json1123/itens.json\", \"w\") as fp:\n",
    "    json.dump(itens, fp, indent=2, ensure_ascii=False)"
   ]
  },
  {
   "cell_type": "markdown",
   "metadata": {},
   "source": [
    "## Volumes"
   ]
  },
  {
   "cell_type": "code",
   "execution_count": 6,
   "metadata": {},
   "outputs": [],
   "source": [
    "volumes_stream = db.collection(\"volumes\").where(filter=FieldFilter(\"deleted\", \"==\", False)).stream()\n",
    "\n",
    "volumes = {}\n",
    "\n",
    "for volume in volumes_stream:\n",
    "    volumes[volume.id] = process_dict(volume.to_dict())\n"
   ]
  },
  {
   "cell_type": "code",
   "execution_count": 7,
   "metadata": {},
   "outputs": [],
   "source": [
    "with open(\"json1123/volumes.json\", \"w\") as fp:\n",
    "    json.dump(volumes, fp, indent=2, ensure_ascii=False)"
   ]
  },
  {
   "cell_type": "code",
   "execution_count": 8,
   "metadata": {},
   "outputs": [
    {
     "data": {
      "text/plain": [
       "5915"
      ]
     },
     "execution_count": 8,
     "metadata": {},
     "output_type": "execute_result"
    }
   ],
   "source": [
    "len(volumes)"
   ]
  },
  {
   "cell_type": "code",
   "execution_count": 9,
   "metadata": {},
   "outputs": [
    {
     "data": {
      "text/plain": [
       "9376"
      ]
     },
     "execution_count": 9,
     "metadata": {},
     "output_type": "execute_result"
    }
   ],
   "source": [
    "len(itens)"
   ]
  },
  {
   "cell_type": "code",
   "execution_count": 10,
   "metadata": {},
   "outputs": [],
   "source": [
    "errados = [x for x in volumes.values() if x[\"medidas\"] == {\"a\": 1, \"c\": 2, \"l\":3} ]"
   ]
  },
  {
   "cell_type": "code",
   "execution_count": 11,
   "metadata": {},
   "outputs": [
    {
     "data": {
      "text/plain": [
       "162"
      ]
     },
     "execution_count": 11,
     "metadata": {},
     "output_type": "execute_result"
    }
   ],
   "source": [
    "len(errados)"
   ]
  },
  {
   "cell_type": "code",
   "execution_count": 12,
   "metadata": {},
   "outputs": [
    {
     "name": "stdout",
     "output_type": "stream",
     "text": [
      "\u001b[92mItens não volumados: 615\u001b[0m\n",
      "\u001b[92mItens volumados: 8761\u001b[0m\n",
      "\u001b[92mPorcentagem: 93.44%\u001b[0m\n"
     ]
    }
   ],
   "source": [
    "Not, Yes = len([x for x in itens.values() if x[\"meta\"][\"volumado\"] == False]), len([x for x in itens.values() if x[\"meta\"][\"volumado\"] == True])\n",
    "\n",
    "print(f\"{bcolors.OKGREEN}Itens não volumados: {Not}{bcolors.ENDC}\")\n",
    "print(f\"{bcolors.OKGREEN}Itens volumados: {Yes}{bcolors.ENDC}\")\n",
    "porcentagem = (Yes/(Not+Yes))*100\n",
    "print(f\"{bcolors.OKGREEN}Porcentagem: {porcentagem:.2f}%{bcolors.ENDC}\")"
   ]
  },
  {
   "cell_type": "code",
   "execution_count": 13,
   "metadata": {},
   "outputs": [],
   "source": [
    "import pandas as pd"
   ]
  },
  {
   "cell_type": "code",
   "execution_count": 14,
   "metadata": {},
   "outputs": [],
   "source": [
    "volumes = pd.DataFrame(volumes).T"
   ]
  },
  {
   "cell_type": "code",
   "execution_count": 15,
   "metadata": {},
   "outputs": [],
   "source": [
    "volumes[\"Predio\"] = volumes.origem.apply(lambda x: x.split(\"/\")[1][0:2])"
   ]
  },
  {
   "cell_type": "code",
   "execution_count": 16,
   "metadata": {},
   "outputs": [],
   "source": [
    "def validate_medidas(medidas: dict) -> bool:\n",
    "    return isinstance(medidas[\"a\"], int) and isinstance(medidas[\"c\"], int) and isinstance(medidas[\"l\"], int)\n",
    "\n",
    "def parse_medidas(medidas: dict) -> dict:\n",
    "    return {\"a\": int(medidas[\"a\"]), \"c\": int(medidas[\"c\"]), \"l\": int(medidas[\"l\"])}\n",
    "\n",
    "volumes[\"medidas\"] = volumes.medidas.apply(parse_medidas)"
   ]
  },
  {
   "cell_type": "code",
   "execution_count": 17,
   "metadata": {},
   "outputs": [],
   "source": [
    "volumes[\"cubagem\"] = volumes.medidas.apply(lambda x: x[\"a\"]*x[\"c\"]*x[\"l\"]/1000_000)"
   ]
  }
 ],
 "metadata": {
  "kernelspec": {
   "display_name": "pythonSDK-zBAoyeeM",
   "language": "python",
   "name": "python3"
  },
  "language_info": {
   "codemirror_mode": {
    "name": "ipython",
    "version": 3
   },
   "file_extension": ".py",
   "mimetype": "text/x-python",
   "name": "python",
   "nbconvert_exporter": "python",
   "pygments_lexer": "ipython3",
   "version": "3.10.8"
  }
 },
 "nbformat": 4,
 "nbformat_minor": 2
}
