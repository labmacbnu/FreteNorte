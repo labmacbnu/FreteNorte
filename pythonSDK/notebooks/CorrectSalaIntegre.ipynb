{
 "cells": [
  {
   "cell_type": "code",
   "execution_count": 1,
   "metadata": {},
   "outputs": [],
   "source": [
    "import firebase_admin\n",
    "from firebase_admin import credentials\n",
    "from firebase_admin import firestore, auth\n",
    "from firebase_admin.firestore import FieldFilter\n",
    "\n",
    "from datetime import datetime\n",
    "import json \n",
    "from dotenv import load_dotenv\n",
    "from random import randint\n",
    "import os\n",
    "import re\n",
    "class bcolors:\n",
    "    HEADER = '\\033[95m'\n",
    "    OKBLUE = '\\033[94m'\n",
    "    OKCYAN = '\\033[96m'\n",
    "    OKGREEN = '\\033[92m'\n",
    "    WARNING = '\\033[93m'\n",
    "    FAIL = '\\033[91m'\n",
    "    ENDC = '\\033[0m'\n",
    "    BOLD = '\\033[1m'\n",
    "    UNDERLINE = '\\033[4m'\n",
    "\n",
    "load_dotenv()\n",
    "\n",
    "cred = credentials.Certificate(os.getenv(\"firebase_secret\"))\n",
    "app = firebase_admin.initialize_app(cred)\n",
    "\n",
    "\n",
    "db = firestore.client()\n",
    "\n",
    "\n",
    "def load_json_file(filename):\n",
    "    with open(filename) as fp:\n",
    "        content = json.load(fp)\n",
    "    return content\n"
   ]
  },
  {
   "cell_type": "code",
   "execution_count": 11,
   "metadata": {},
   "outputs": [],
   "source": [
    "SLIJ = db.document(\"ambientes/SALA INTEGRE JUNIOR\")\n",
    "\n",
    "volumes = db.collection(\"volumes\").where(filter=FieldFilter(\"origem\", \"==\", SLIJ))\n",
    "\n",
    "C2041 = db.document(\"ambientes/C204.1\")"
   ]
  },
  {
   "cell_type": "code",
   "execution_count": 12,
   "metadata": {},
   "outputs": [
    {
     "name": "stdout",
     "output_type": "stream",
     "text": [
      "\u001b[96mVolume: SIJ01000\u001b[0m\n",
      "Origem: SALA INTEGRE JUNIOR\n",
      "Destino: A031\n",
      "Data de Criação: 2024-06-05 12:51:24.457000+00:00\n",
      "\u001b[96mVolume: SIJ01001\u001b[0m\n",
      "Origem: SALA INTEGRE JUNIOR\n",
      "Destino: A031\n",
      "Data de Criação: 2024-06-05 12:52:05.672000+00:00\n",
      "\u001b[96mVolume: SIJ01002\u001b[0m\n",
      "Origem: SALA INTEGRE JUNIOR\n",
      "Destino: A031\n",
      "Data de Criação: 2024-06-05 12:53:08.168000+00:00\n",
      "\u001b[96mVolume: SIJ01003\u001b[0m\n",
      "Origem: SALA INTEGRE JUNIOR\n",
      "Destino: A031\n",
      "Data de Criação: 2024-06-05 12:53:41.608000+00:00\n",
      "\u001b[96mVolume: SIJ01004\u001b[0m\n",
      "Origem: SALA INTEGRE JUNIOR\n",
      "Destino: A031\n",
      "Data de Criação: 2024-06-05 12:54:09.872000+00:00\n"
     ]
    }
   ],
   "source": [
    "for document in volumes.stream():\n",
    "    print(f\"{bcolors.OKCYAN}Volume: {document.id}{bcolors.ENDC}\")\n",
    "    data = document.to_dict()\n",
    "    print(f\"Origem: {data['origem'].id}\")\n",
    "    print(f\"Destino: {data['destino'].id}\")\n",
    "    print(f\"Data de Criação: {data['data_criacao']}\")\n",
    "    document.reference.update({\"origem\": C2041, \"localizacao_atual\": C2041})"
   ]
  },
  {
   "cell_type": "code",
   "execution_count": 14,
   "metadata": {},
   "outputs": [],
   "source": [
    "STIJ = db.document(\"ambientes/SANITÁRIO INTEGRE JUNIOR\")\n",
    "\n",
    "volumes = db.collection(\"volumes\").where(filter=FieldFilter(\"origem\", \"==\", STIJ))\n",
    "\n",
    "C2041 = db.document(\"ambientes/C204.1\")"
   ]
  },
  {
   "cell_type": "code",
   "execution_count": 15,
   "metadata": {},
   "outputs": [
    {
     "name": "stdout",
     "output_type": "stream",
     "text": [
      "\u001b[96mVolume: 167wpfd4bBlRBnNg4C2n\u001b[0m\n",
      "Origem: SANITÁRIO INTEGRE JUNIOR\n",
      "Destino: A031\n",
      "Data de Criação: 2023-10-11 18:54:02.308000+00:00\n",
      "\u001b[96mVolume: SIJ01005\u001b[0m\n",
      "Origem: SANITÁRIO INTEGRE JUNIOR\n",
      "Destino: A031\n",
      "Data de Criação: 2024-06-05 12:36:18.362000+00:00\n",
      "\u001b[96mVolume: SIJ01006\u001b[0m\n",
      "Origem: SANITÁRIO INTEGRE JUNIOR\n",
      "Destino: A031\n",
      "Data de Criação: 2024-06-05 12:37:01.586000+00:00\n"
     ]
    }
   ],
   "source": [
    "for document in volumes.stream():\n",
    "    print(f\"{bcolors.OKCYAN}Volume: {document.id}{bcolors.ENDC}\")\n",
    "    data = document.to_dict()\n",
    "    print(f\"Origem: {data['origem'].id}\")\n",
    "    print(f\"Destino: {data['destino'].id}\")\n",
    "    print(f\"Data de Criação: {data['data_criacao']}\")\n",
    "    document.reference.update({\"origem\": C2041, \"localizacao_atual\": C2041})"
   ]
  },
  {
   "cell_type": "code",
   "execution_count": null,
   "metadata": {},
   "outputs": [],
   "source": []
  }
 ],
 "metadata": {
  "kernelspec": {
   "display_name": "pythonSDK-zBAoyeeM",
   "language": "python",
   "name": "python3"
  },
  "language_info": {
   "codemirror_mode": {
    "name": "ipython",
    "version": 3
   },
   "file_extension": ".py",
   "mimetype": "text/x-python",
   "name": "python",
   "nbconvert_exporter": "python",
   "pygments_lexer": "ipython3",
   "version": "3.10.8"
  },
  "orig_nbformat": 4
 },
 "nbformat": 4,
 "nbformat_minor": 2
}
