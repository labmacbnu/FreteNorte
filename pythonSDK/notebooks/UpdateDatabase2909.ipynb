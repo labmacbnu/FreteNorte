{
 "cells": [
  {
   "cell_type": "code",
   "execution_count": 1,
   "metadata": {},
   "outputs": [],
   "source": [
    "import firebase_admin\n",
    "from firebase_admin import credentials\n",
    "from firebase_admin import firestore, auth\n",
    "from datetime import datetime\n",
    "import json \n",
    "from dotenv import load_dotenv\n",
    "from random import randint\n",
    "import os\n",
    "import re\n",
    "class bcolors:\n",
    "    HEADER = '\\033[95m'\n",
    "    OKBLUE = '\\033[94m'\n",
    "    OKCYAN = '\\033[96m'\n",
    "    OKGREEN = '\\033[92m'\n",
    "    WARNING = '\\033[93m'\n",
    "    FAIL = '\\033[91m'\n",
    "    ENDC = '\\033[0m'\n",
    "    BOLD = '\\033[1m'\n",
    "    UNDERLINE = '\\033[4m'\n",
    "\n",
    "load_dotenv()\n",
    "\n",
    "cred = credentials.Certificate(os.getenv(\"firebase_secret\"))\n",
    "app = firebase_admin.initialize_app(cred)\n",
    "\n",
    "\n",
    "db = firestore.client()\n",
    "\n",
    "\n",
    "def load_json_file(filename):\n",
    "    with open(filename) as fp:\n",
    "        content = json.load(fp)\n",
    "    return content\n"
   ]
  },
  {
   "cell_type": "code",
   "execution_count": 2,
   "metadata": {},
   "outputs": [],
   "source": [
    "DIFF = load_json_file(\"diff.json\")"
   ]
  },
  {
   "cell_type": "code",
   "execution_count": 4,
   "metadata": {},
   "outputs": [],
   "source": [
    "def return_old_new_pair(dictionary: dict, key: str = ''): \n",
    "    if 'd1' in dictionary:\n",
    "        return (dictionary['d1'], dictionary['d2'])\n",
    "    else:\n",
    "\n",
    "        return {key: return_old_new_pair({key: val['d1'], key: val['d2']}, key = key ) for (key,val) in dictionary.items()}"
   ]
  },
  {
   "cell_type": "code",
   "execution_count": 5,
   "metadata": {},
   "outputs": [],
   "source": [
    "def flatten_dict(dicionary: dict) -> dict:\n",
    "    flat_dict = {}\n",
    "    for key, val in dicionary.items():\n",
    "        if type(val) == dict:\n",
    "            for sub_key, sub_val in flatten_dict(val).items():\n",
    "                flat_dict[key + '.' + sub_key] = sub_val\n",
    "        else:\n",
    "            flat_dict[key] = val\n",
    "    return flat_dict"
   ]
  },
  {
   "cell_type": "code",
   "execution_count": null,
   "metadata": {},
   "outputs": [],
   "source": [
    "from datetime import datetime\n"
   ]
  },
  {
   "cell_type": "code",
   "execution_count": 24,
   "metadata": {},
   "outputs": [],
   "source": [
    "MAPA_VALORES_MODIFICADOS = {'ambiente': lambda x: db.document(f\"ambientes/{x}\"),\n",
    " 'detalhes.descricao': lambda x: x,\n",
    " 'detalhes.n_serie': lambda x: x,\n",
    " 'detalhes.transf_local': lambda x: datetime.strptime(x, \"%d/%m/%Y\") if x else None,\n",
    " 'edificio': lambda x: x,\n",
    " 'origem': lambda x: x,\n",
    " 'responsavel': lambda x: x}"
   ]
  },
  {
   "cell_type": "markdown",
   "metadata": {},
   "source": [
    "## Modificados"
   ]
  },
  {
   "cell_type": "code",
   "execution_count": 32,
   "metadata": {},
   "outputs": [],
   "source": [
    "TO_MODIFY = {} \n",
    "\n",
    "for patrimonio, value in DIFF['modified'].items():\n",
    "    novos_valores = flatten_dict(value)\n",
    "    update_dict = {}\n",
    "    for key, value in novos_valores.items():\n",
    "        if 'd1' in key:\n",
    "            new_key = key.replace(\".d1\", \"\") \n",
    "            update_dict[new_key] = value\n",
    "    docref = db.document(f'items/{patrimonio}')\n",
    "    docdata = docref.get().to_dict()\n",
    "    TO_MODIFY[patrimonio] = {'atual': docdata, 'update': update_dict} \n",
    "    update_dict_melhorado = {key: MAPA_VALORES_MODIFICADOS[key](value) for (key, value) in update_dict.items()}\n",
    "     \n",
    "    docref.update(update_dict_melhorado)\n"
   ]
  },
  {
   "cell_type": "code",
   "execution_count": 31,
   "metadata": {},
   "outputs": [],
   "source": [
    "import json\n",
    "from pathlib import Path\n",
    "\n",
    "updated_path = Path(\"json0929/updated.json\")\n",
    "\n",
    "with open(updated_path, 'w') as fp:\n",
    "    json.dump(TO_MODIFY, fp, ensure_ascii=False, indent=2, default=str)"
   ]
  },
  {
   "cell_type": "markdown",
   "metadata": {},
   "source": [
    "## Criados"
   ]
  },
  {
   "cell_type": "code",
   "execution_count": null,
   "metadata": {},
   "outputs": [],
   "source": [
    "MAPA_VALORES_MODIFICADOS = {'ambiente': lambda x: db.document(f\"ambientes/{x}\"),\n",
    " 'detalhes.descricao': lambda x: x,\n",
    " 'detalhes.n_serie': lambda x: x,\n",
    " 'detalhes.transf_local': lambda x: datetime.strptime(x, \"%d/%m/%Y\") if x else None,\n",
    " 'edificio': lambda x: x,\n",
    " 'origem': lambda x: x,\n",
    " 'responsavel': lambda x: x}"
   ]
  },
  {
   "cell_type": "code",
   "execution_count": 3,
   "metadata": {},
   "outputs": [],
   "source": [
    "from datetime import datetime"
   ]
  },
  {
   "cell_type": "code",
   "execution_count": 44,
   "metadata": {},
   "outputs": [],
   "source": [
    "DIFF = load_json_file(\"diff.json\")"
   ]
  },
  {
   "cell_type": "code",
   "execution_count": 45,
   "metadata": {},
   "outputs": [],
   "source": [
    "def processar_dicionario(dicionario):\n",
    "    dicionario[\"ambiente\"] = db.document(f\"ambientes/{dicionario['ambiente']}\")\n",
    "    if dicionario[\"detalhes\"][\"incorporacao\"]: \n",
    "        dicionario[\"detalhes\"][\"incorporacao\"] = datetime.strptime(dicionario[\"detalhes\"][\"incorporacao\"], \"%d/%m/%Y\") \n",
    "    if dicionario[\"detalhes\"][\"transf_local\"]:\n",
    "        dicionario[\"detalhes\"][\"transf_local\"] = datetime.strptime(dicionario[\"detalhes\"][\"transf_local\"], \"%d/%m/%Y\")\n",
    "    dicionario['meta'] = {\"inteiro\": True, \"partes\": [], \"updated\": datetime.now(), \"volumado\": False, \"volume\": None}\n",
    "    \n",
    "for patrimonio, dicionario in DIFF['new'].items():\n",
    "    processar_dicionario(dicionario) "
   ]
  },
  {
   "cell_type": "code",
   "execution_count": 47,
   "metadata": {},
   "outputs": [
    {
     "name": "stdout",
     "output_type": "stream",
     "text": [
      "{'responsavel': 'Rafael dos Reis Abreu', 'ambiente': <google.cloud.firestore_v1.document.DocumentReference object at 0x7f36f034e590>, 'edificio': 'BNU03 - Bloco Acadêmico B', 'detalhes': {'patrimonio': 1021814, 'n_controle': None, 'cod_barras': 364329, 'n_serie': 1675064, 'descricao': 'BEBEDOURO DE ÁGUA  - TIPO VERTICAL FIXO. MARCA: LIBELL; MODELO: PRESS STAR INOX. BEBEDOURO TIPO PRESSÃO; COM DUAS BICAS (TORNEIRAS) UMA DO TIPO COPO E UMA DO TIPO JATO; ALIMENTADO COM ÁGUA DA REDE; PIA EM AÇO INOXIDÁVEL E RESERVATÓRIO DE ÁGUA EM POLIACETAL; 220 V.', 'conservacao': 'EM USO', 'incorporacao': datetime.datetime(2023, 9, 20, 0, 0), 'transf_local': None, 'valor': 695, 'situacao': 'Ativo', 'peso': '', 'medidas': ''}, 'short_descricao': 'BEBEDOURO DE ÁGUA ', 'origem': 'B026', 'key': 364329, 'tipo': 'Permanente'}\n",
      "{'responsavel': 'Rafael dos Reis Abreu', 'ambiente': <google.cloud.firestore_v1.document.DocumentReference object at 0x7f36f034ff40>, 'edificio': 'BNU03 - Bloco Acadêmico B', 'detalhes': {'patrimonio': 1021815, 'n_controle': None, 'cod_barras': 364330, 'n_serie': 1675070, 'descricao': 'BEBEDOURO DE ÁGUA  - TIPO VERTICAL FIXO. MARCA: LIBELL; MODELO: PRESS STAR INOX. BEBEDOURO TIPO PRESSÃO; COM DUAS BICAS (TORNEIRAS) UMA DO TIPO COPO E UMA DO TIPO JATO; ALIMENTADO COM ÁGUA DA REDE; PIA EM AÇO INOXIDÁVEL E RESERVATÓRIO DE ÁGUA EM POLIACETAL; 220 V.', 'conservacao': 'EM USO', 'incorporacao': datetime.datetime(2023, 9, 20, 0, 0), 'transf_local': None, 'valor': 695, 'situacao': 'Ativo', 'peso': '', 'medidas': ''}, 'short_descricao': 'BEBEDOURO DE ÁGUA ', 'origem': 'B026', 'key': 364330, 'tipo': 'Permanente'}\n",
      "{'responsavel': 'Camila Waldrich Fischer', 'ambiente': <google.cloud.firestore_v1.document.DocumentReference object at 0x7f36f034f8b0>, 'edificio': 'BNU07 - Bloco Administrativo C', 'detalhes': {'patrimonio': 1019470, 'n_controle': None, 'cod_barras': 403035, 'n_serie': '89485293E', 'descricao': 'NOTEBOOK - NOTEBOOK VAIO, MODELO FE14, ACOMPANHA WINDOWS 11 PRO COM DOWNGRADE E MOUSE.', 'conservacao': 'EM USO', 'incorporacao': datetime.datetime(2023, 5, 25, 0, 0), 'transf_local': datetime.datetime(2023, 9, 19, 0, 0), 'valor': 3557, 'situacao': 'Ativo', 'peso': '', 'medidas': ''}, 'short_descricao': 'NOTEBOOK', 'origem': 'C105.2', 'key': 403035, 'tipo': 'Permanente'}\n",
      "{'responsavel': 'Camila Waldrich Fischer', 'ambiente': <google.cloud.firestore_v1.document.DocumentReference object at 0x7f36ab1c1090>, 'edificio': 'BNU07 - Bloco Administrativo C', 'detalhes': {'patrimonio': 1019471, 'n_controle': None, 'cod_barras': 403036, 'n_serie': '89485313M', 'descricao': 'NOTEBOOK - NOTEBOOK VAIO, MODELO FE14, ACOMPANHA WINDOWS 11 PRO COM DOWNGRADE E MOUSE.', 'conservacao': 'EM USO', 'incorporacao': datetime.datetime(2023, 5, 25, 0, 0), 'transf_local': datetime.datetime(2023, 9, 19, 0, 0), 'valor': 3557, 'situacao': 'Ativo', 'peso': '', 'medidas': ''}, 'short_descricao': 'NOTEBOOK', 'origem': 'C105.2', 'key': 403036, 'tipo': 'Permanente'}\n",
      "{'responsavel': 'Camila Waldrich Fischer', 'ambiente': <google.cloud.firestore_v1.document.DocumentReference object at 0x7f36ab1c3af0>, 'edificio': 'BNU07 - Bloco Administrativo C', 'detalhes': {'patrimonio': 1019472, 'n_controle': None, 'cod_barras': 403037, 'n_serie': '89485340H', 'descricao': 'NOTEBOOK - NOTEBOOK VAIO, MODELO FE14, ACOMPANHA WINDOWS 11 PRO COM DOWNGRADE E MOUSE.', 'conservacao': 'EM USO', 'incorporacao': datetime.datetime(2023, 5, 25, 0, 0), 'transf_local': datetime.datetime(2023, 9, 19, 0, 0), 'valor': 3557, 'situacao': 'Ativo', 'peso': '', 'medidas': ''}, 'short_descricao': 'NOTEBOOK', 'origem': 'C105.2', 'key': 403037, 'tipo': 'Permanente'}\n",
      "{'responsavel': 'Camila Waldrich Fischer', 'ambiente': <google.cloud.firestore_v1.document.DocumentReference object at 0x7f36ab1c0790>, 'edificio': 'BNU07 - Bloco Administrativo C', 'detalhes': {'patrimonio': 1019473, 'n_controle': None, 'cod_barras': 403038, 'n_serie': '89485079E', 'descricao': 'NOTEBOOK - NOTEBOOK VAIO, MODELO FE14, ACOMPANHA WINDOWS 11 PRO COM DOWNGRADE E MOUSE.', 'conservacao': 'EM USO', 'incorporacao': datetime.datetime(2023, 5, 25, 0, 0), 'transf_local': datetime.datetime(2023, 9, 19, 0, 0), 'valor': 3557, 'situacao': 'Ativo', 'peso': '', 'medidas': ''}, 'short_descricao': 'NOTEBOOK', 'origem': 'C105.2', 'key': 403038, 'tipo': 'Permanente'}\n",
      "{'responsavel': 'Camila Waldrich Fischer', 'ambiente': <google.cloud.firestore_v1.document.DocumentReference object at 0x7f36ab1c3e20>, 'edificio': 'BNU07 - Bloco Administrativo C', 'detalhes': {'patrimonio': 1019481, 'n_controle': None, 'cod_barras': 403046, 'n_serie': '89485307E', 'descricao': 'NOTEBOOK - NOTEBOOK VAIO, MODELO FE14, ACOMPANHA WINDOWS 11 PRO COM DOWNGRADE E MOUSE.', 'conservacao': 'EM USO', 'incorporacao': datetime.datetime(2023, 5, 25, 0, 0), 'transf_local': datetime.datetime(2023, 9, 19, 0, 0), 'valor': 3557, 'situacao': 'Ativo', 'peso': '', 'medidas': ''}, 'short_descricao': 'NOTEBOOK', 'origem': 'C105.2', 'key': 403046, 'tipo': 'Permanente'}\n",
      "{'responsavel': 'Camila Waldrich Fischer', 'ambiente': <google.cloud.firestore_v1.document.DocumentReference object at 0x7f36ab1c3430>, 'edificio': 'BNU07 - Bloco Administrativo C', 'detalhes': {'patrimonio': 1019498, 'n_controle': None, 'cod_barras': 403063, 'n_serie': '89485479G', 'descricao': 'NOTEBOOK - NOTEBOOK VAIO, MODELO FE14, ACOMPANHA WINDOWS 11 PRO COM DOWNGRADE E MOUSE.', 'conservacao': 'EM USO', 'incorporacao': datetime.datetime(2023, 5, 25, 0, 0), 'transf_local': datetime.datetime(2023, 9, 19, 0, 0), 'valor': 3557, 'situacao': 'Ativo', 'peso': '', 'medidas': ''}, 'short_descricao': 'NOTEBOOK', 'origem': 'C105.2', 'key': 403063, 'tipo': 'Permanente'}\n",
      "{'responsavel': 'Camila Waldrich Fischer', 'ambiente': <google.cloud.firestore_v1.document.DocumentReference object at 0x7f36ab1c2b60>, 'edificio': 'BNU07 - Bloco Administrativo C', 'detalhes': {'patrimonio': 1019524, 'n_controle': None, 'cod_barras': 403089, 'n_serie': -89484732, 'descricao': 'NOTEBOOK - NOTEBOOK VAIO, MODELO FE14, ACOMPANHA WINDOWS 11 PRO COM DOWNGRADE E MOUSE.', 'conservacao': 'EM USO', 'incorporacao': datetime.datetime(2023, 5, 25, 0, 0), 'transf_local': datetime.datetime(2023, 9, 19, 0, 0), 'valor': 3557, 'situacao': 'Ativo', 'peso': '', 'medidas': ''}, 'short_descricao': 'NOTEBOOK', 'origem': 'C105.2', 'key': 403089, 'tipo': 'Permanente'}\n",
      "{'responsavel': 'Camila Waldrich Fischer', 'ambiente': <google.cloud.firestore_v1.document.DocumentReference object at 0x7f36ab1c1f00>, 'edificio': 'BNU07 - Bloco Administrativo C', 'detalhes': {'patrimonio': 1020446, 'n_controle': None, 'cod_barras': 408298, 'n_serie': '4C091', 'descricao': \"MONITOR  - MONITOR LED 23.8'', MARCA POSITIVO, MODELO 24BL55J, BIVOLT.\", 'conservacao': 'EM USO', 'incorporacao': datetime.datetime(2023, 7, 17, 0, 0), 'transf_local': datetime.datetime(2023, 9, 19, 0, 0), 'valor': 511.82, 'situacao': 'Ativo', 'peso': '', 'medidas': ''}, 'short_descricao': 'MONITOR ', 'origem': 'C105.2', 'key': 408298, 'tipo': 'Permanente'}\n",
      "{'responsavel': 'Camila Waldrich Fischer', 'ambiente': <google.cloud.firestore_v1.document.DocumentReference object at 0x7f36ab1c2350>, 'edificio': 'BNU07 - Bloco Administrativo C', 'detalhes': {'patrimonio': 1020447, 'n_controle': None, 'cod_barras': 408299, 'n_serie': '2M080', 'descricao': \"MONITOR  - MONITOR LED 23.8'', MARCA POSITIVO, MODELO 24BL55J, BIVOLT.\", 'conservacao': 'EM USO', 'incorporacao': datetime.datetime(2023, 7, 17, 0, 0), 'transf_local': datetime.datetime(2023, 9, 19, 0, 0), 'valor': 511.82, 'situacao': 'Ativo', 'peso': '', 'medidas': ''}, 'short_descricao': 'MONITOR ', 'origem': 'C105.2', 'key': 408299, 'tipo': 'Permanente'}\n",
      "{'responsavel': 'Camila Waldrich Fischer', 'ambiente': <google.cloud.firestore_v1.document.DocumentReference object at 0x7f36ab1c0760>, 'edificio': 'BNU07 - Bloco Administrativo C', 'detalhes': {'patrimonio': 1020448, 'n_controle': None, 'cod_barras': 408300, 'n_serie': 25727, 'descricao': \"MONITOR  - MONITOR LED 23.8'', MARCA POSITIVO, MODELO 24BL55J, BIVOLT.\", 'conservacao': 'EM USO', 'incorporacao': datetime.datetime(2023, 7, 17, 0, 0), 'transf_local': datetime.datetime(2023, 9, 19, 0, 0), 'valor': 511.82, 'situacao': 'Ativo', 'peso': '', 'medidas': ''}, 'short_descricao': 'MONITOR ', 'origem': 'C105.2', 'key': 408300, 'tipo': 'Permanente'}\n",
      "{'responsavel': 'Camila Waldrich Fischer', 'ambiente': <google.cloud.firestore_v1.document.DocumentReference object at 0x7f36ab1c0b20>, 'edificio': 'BNU07 - Bloco Administrativo C', 'detalhes': {'patrimonio': 1020455, 'n_controle': None, 'cod_barras': 408307, 'n_serie': '2L637', 'descricao': \"MONITOR  - MONITOR LED 23.8'', MARCA POSITIVO, MODELO 24BL55J, BIVOLT.\", 'conservacao': 'EM USO', 'incorporacao': datetime.datetime(2023, 7, 17, 0, 0), 'transf_local': datetime.datetime(2023, 9, 19, 0, 0), 'valor': 511.82, 'situacao': 'Ativo', 'peso': '', 'medidas': ''}, 'short_descricao': 'MONITOR ', 'origem': 'C105.2', 'key': 408307, 'tipo': 'Permanente'}\n",
      "{'responsavel': 'Camila Waldrich Fischer', 'ambiente': <google.cloud.firestore_v1.document.DocumentReference object at 0x7f36ab1c2950>, 'edificio': 'BNU07 - Bloco Administrativo C', 'detalhes': {'patrimonio': 1020456, 'n_controle': None, 'cod_barras': 408308, 'n_serie': '2L644', 'descricao': \"MONITOR  - MONITOR LED 23.8'', MARCA POSITIVO, MODELO 24BL55J, BIVOLT.\", 'conservacao': 'EM USO', 'incorporacao': datetime.datetime(2023, 7, 17, 0, 0), 'transf_local': datetime.datetime(2023, 9, 19, 0, 0), 'valor': 511.82, 'situacao': 'Ativo', 'peso': '', 'medidas': ''}, 'short_descricao': 'MONITOR ', 'origem': 'C105.2', 'key': 408308, 'tipo': 'Permanente'}\n",
      "{'responsavel': 'Camila Waldrich Fischer', 'ambiente': <google.cloud.firestore_v1.document.DocumentReference object at 0x7f36ab1c30a0>, 'edificio': 'BNU07 - Bloco Administrativo C', 'detalhes': {'patrimonio': 1020457, 'n_controle': None, 'cod_barras': 408309, 'n_serie': '2L639', 'descricao': \"MONITOR  - MONITOR LED 23.8'', MARCA POSITIVO, MODELO 24BL55J, BIVOLT.\", 'conservacao': 'EM USO', 'incorporacao': datetime.datetime(2023, 7, 17, 0, 0), 'transf_local': datetime.datetime(2023, 9, 19, 0, 0), 'valor': 511.82, 'situacao': 'Ativo', 'peso': '', 'medidas': ''}, 'short_descricao': 'MONITOR ', 'origem': 'C105.2', 'key': 408309, 'tipo': 'Permanente'}\n",
      "{'responsavel': 'Camila Waldrich Fischer', 'ambiente': <google.cloud.firestore_v1.document.DocumentReference object at 0x7f36ab1c3610>, 'edificio': 'BNU07 - Bloco Administrativo C', 'detalhes': {'patrimonio': 1020458, 'n_controle': None, 'cod_barras': 408310, 'n_serie': 27237, 'descricao': \"MONITOR  - MONITOR LED 23.8'', MARCA POSITIVO, MODELO 24BL55J, BIVOLT.\", 'conservacao': 'EM USO', 'incorporacao': datetime.datetime(2023, 7, 17, 0, 0), 'transf_local': datetime.datetime(2023, 9, 19, 0, 0), 'valor': 511.82, 'situacao': 'Ativo', 'peso': '', 'medidas': ''}, 'short_descricao': 'MONITOR ', 'origem': 'C105.2', 'key': 408310, 'tipo': 'Permanente'}\n",
      "{'responsavel': 'Camila Waldrich Fischer', 'ambiente': <google.cloud.firestore_v1.document.DocumentReference object at 0x7f36ab1c0490>, 'edificio': 'BNU07 - Bloco Administrativo C', 'detalhes': {'patrimonio': 1020459, 'n_controle': None, 'cod_barras': 408311, 'n_serie': 49190, 'descricao': \"MONITOR  - MONITOR LED 23.8'', MARCA POSITIVO, MODELO 24BL55J, BIVOLT.\", 'conservacao': 'EM USO', 'incorporacao': datetime.datetime(2023, 7, 17, 0, 0), 'transf_local': datetime.datetime(2023, 9, 19, 0, 0), 'valor': 511.82, 'situacao': 'Ativo', 'peso': '', 'medidas': ''}, 'short_descricao': 'MONITOR ', 'origem': 'C105.2', 'key': 408311, 'tipo': 'Permanente'}\n",
      "{'responsavel': 'Camila Waldrich Fischer', 'ambiente': <google.cloud.firestore_v1.document.DocumentReference object at 0x7f36ab1c3c10>, 'edificio': 'BNU07 - Bloco Administrativo C', 'detalhes': {'patrimonio': 1020460, 'n_controle': None, 'cod_barras': 408312, 'n_serie': '4D071', 'descricao': \"MONITOR  - MONITOR LED 23.8'', MARCA POSITIVO, MODELO 24BL55J, BIVOLT.\", 'conservacao': 'EM USO', 'incorporacao': datetime.datetime(2023, 7, 17, 0, 0), 'transf_local': datetime.datetime(2023, 9, 19, 0, 0), 'valor': 511.82, 'situacao': 'Ativo', 'peso': '', 'medidas': ''}, 'short_descricao': 'MONITOR ', 'origem': 'C105.2', 'key': 408312, 'tipo': 'Permanente'}\n",
      "{'responsavel': 'Camila Waldrich Fischer', 'ambiente': <google.cloud.firestore_v1.document.DocumentReference object at 0x7f36ab1c1210>, 'edificio': 'BNU07 - Bloco Administrativo C', 'detalhes': {'patrimonio': 1020581, 'n_controle': None, 'cod_barras': 408283, 'n_serie': '5A380QM3R', 'descricao': 'COMPUTADOR DESKTOP - COMPUTADOR DESKTOP, MARCA POSITIVO, MODELO MASTER C4400 MINIPRO, ACOMPANHA WINDOWS 11 PRO 64 BITS, ACOMPANHA MOUSE, TECLADO E CABOS, BIVOLT.', 'conservacao': 'EM USO', 'incorporacao': datetime.datetime(2023, 7, 19, 0, 0), 'transf_local': datetime.datetime(2023, 9, 19, 0, 0), 'valor': 3306.18, 'situacao': 'Ativo', 'peso': '', 'medidas': ''}, 'short_descricao': 'COMPUTADOR DESKTOP', 'origem': 'C105.2', 'key': 408283, 'tipo': 'Permanente'}\n",
      "{'responsavel': 'Camila Waldrich Fischer', 'ambiente': <google.cloud.firestore_v1.document.DocumentReference object at 0x7f36ab1c1960>, 'edificio': 'BNU07 - Bloco Administrativo C', 'detalhes': {'patrimonio': 1020588, 'n_controle': None, 'cod_barras': 408098, 'n_serie': '5A380QJ87', 'descricao': 'COMPUTADOR DESKTOP - COMPUTADOR DESKTOP, MARCA POSITIVO, MODELO MASTER C4400 MINIPRO, ACOMPANHA WINDOWS 11 PRO 64 BITS, ACOMPANHA MOUSE, TECLADO E CABOS, BIVOLT.', 'conservacao': 'EM USO', 'incorporacao': datetime.datetime(2023, 7, 19, 0, 0), 'transf_local': datetime.datetime(2023, 9, 19, 0, 0), 'valor': 3306.18, 'situacao': 'Ativo', 'peso': '', 'medidas': ''}, 'short_descricao': 'COMPUTADOR DESKTOP', 'origem': 'C105.2', 'key': 408098, 'tipo': 'Permanente'}\n",
      "{'responsavel': 'Camila Waldrich Fischer', 'ambiente': <google.cloud.firestore_v1.document.DocumentReference object at 0x7f36f034fe80>, 'edificio': 'BNU07 - Bloco Administrativo C', 'detalhes': {'patrimonio': 1020598, 'n_controle': None, 'cod_barras': 408108, 'n_serie': '5A380RH88', 'descricao': 'COMPUTADOR DESKTOP - COMPUTADOR DESKTOP, MARCA POSITIVO, MODELO MASTER C4400 MINIPRO, ACOMPANHA WINDOWS 11 PRO 64 BITS, ACOMPANHA MOUSE, TECLADO E CABOS, BIVOLT.', 'conservacao': 'EM USO', 'incorporacao': datetime.datetime(2023, 7, 19, 0, 0), 'transf_local': datetime.datetime(2023, 9, 19, 0, 0), 'valor': 3306.18, 'situacao': 'Ativo', 'peso': '', 'medidas': ''}, 'short_descricao': 'COMPUTADOR DESKTOP', 'origem': 'C105.2', 'key': 408108, 'tipo': 'Permanente'}\n",
      "{'responsavel': 'Camila Waldrich Fischer', 'ambiente': <google.cloud.firestore_v1.document.DocumentReference object at 0x7f36ab1c1360>, 'edificio': 'BNU07 - Bloco Administrativo C', 'detalhes': {'patrimonio': 1020599, 'n_controle': None, 'cod_barras': 408109, 'n_serie': '5A380RF7X', 'descricao': 'COMPUTADOR DESKTOP - COMPUTADOR DESKTOP, MARCA POSITIVO, MODELO MASTER C4400 MINIPRO, ACOMPANHA WINDOWS 11 PRO 64 BITS, ACOMPANHA MOUSE, TECLADO E CABOS, BIVOLT.', 'conservacao': 'EM USO', 'incorporacao': datetime.datetime(2023, 7, 19, 0, 0), 'transf_local': datetime.datetime(2023, 9, 19, 0, 0), 'valor': 3306.18, 'situacao': 'Ativo', 'peso': '', 'medidas': ''}, 'short_descricao': 'COMPUTADOR DESKTOP', 'origem': 'C105.2', 'key': 408109, 'tipo': 'Permanente'}\n",
      "{'responsavel': 'Camila Waldrich Fischer', 'ambiente': <google.cloud.firestore_v1.document.DocumentReference object at 0x7f36ab1c1450>, 'edificio': 'BNU07 - Bloco Administrativo C', 'detalhes': {'patrimonio': 1020605, 'n_controle': None, 'cod_barras': 408115, 'n_serie': '5A380RG85', 'descricao': 'COMPUTADOR DESKTOP - COMPUTADOR DESKTOP, MARCA POSITIVO, MODELO MASTER C4400 MINIPRO, ACOMPANHA WINDOWS 11 PRO 64 BITS, ACOMPANHA MOUSE, TECLADO E CABOS, BIVOLT.', 'conservacao': 'EM USO', 'incorporacao': datetime.datetime(2023, 7, 19, 0, 0), 'transf_local': datetime.datetime(2023, 9, 19, 0, 0), 'valor': 3306.18, 'situacao': 'Ativo', 'peso': '', 'medidas': ''}, 'short_descricao': 'COMPUTADOR DESKTOP', 'origem': 'C105.2', 'key': 408115, 'tipo': 'Permanente'}\n",
      "{'responsavel': 'Camila Waldrich Fischer', 'ambiente': <google.cloud.firestore_v1.document.DocumentReference object at 0x7f36ab1c0520>, 'edificio': 'BNU07 - Bloco Administrativo C', 'detalhes': {'patrimonio': 1020613, 'n_controle': None, 'cod_barras': 408123, 'n_serie': '5A380QX4T', 'descricao': 'COMPUTADOR DESKTOP - COMPUTADOR DESKTOP, MARCA POSITIVO, MODELO MASTER C4400 MINIPRO, ACOMPANHA WINDOWS 11 PRO 64 BITS, ACOMPANHA MOUSE, TECLADO E CABOS, BIVOLT.', 'conservacao': 'EM USO', 'incorporacao': datetime.datetime(2023, 7, 19, 0, 0), 'transf_local': datetime.datetime(2023, 9, 19, 0, 0), 'valor': 3306.18, 'situacao': 'Ativo', 'peso': '', 'medidas': ''}, 'short_descricao': 'COMPUTADOR DESKTOP', 'origem': 'C105.2', 'key': 408123, 'tipo': 'Permanente'}\n",
      "{'responsavel': 'Camila Waldrich Fischer', 'ambiente': <google.cloud.firestore_v1.document.DocumentReference object at 0x7f36ab1c3640>, 'edificio': 'BNU07 - Bloco Administrativo C', 'detalhes': {'patrimonio': 1020614, 'n_controle': None, 'cod_barras': 408124, 'n_serie': '5A380QG93', 'descricao': 'COMPUTADOR DESKTOP - COMPUTADOR DESKTOP, MARCA POSITIVO, MODELO MASTER C4400 MINIPRO, ACOMPANHA WINDOWS 11 PRO 64 BITS, ACOMPANHA MOUSE, TECLADO E CABOS, BIVOLT.', 'conservacao': 'EM USO', 'incorporacao': datetime.datetime(2023, 7, 19, 0, 0), 'transf_local': datetime.datetime(2023, 9, 19, 0, 0), 'valor': 3306.18, 'situacao': 'Ativo', 'peso': '', 'medidas': ''}, 'short_descricao': 'COMPUTADOR DESKTOP', 'origem': 'C105.2', 'key': 408124, 'tipo': 'Permanente'}\n",
      "{'responsavel': 'Camila Waldrich Fischer', 'ambiente': <google.cloud.firestore_v1.document.DocumentReference object at 0x7f36ab1c2920>, 'edificio': 'BNU07 - Bloco Administrativo C', 'detalhes': {'patrimonio': 1020633, 'n_controle': None, 'cod_barras': 408143, 'n_serie': '5A380Q806', 'descricao': 'COMPUTADOR DESKTOP - COMPUTADOR DESKTOP, MARCA POSITIVO, MODELO MASTER C4400 MINIPRO, ACOMPANHA WINDOWS 11 PRO 64 BITS, ACOMPANHA MOUSE, TECLADO E CABOS, BIVOLT.', 'conservacao': 'EM USO', 'incorporacao': datetime.datetime(2023, 7, 19, 0, 0), 'transf_local': datetime.datetime(2023, 9, 19, 0, 0), 'valor': 3306.18, 'situacao': 'Ativo', 'peso': '', 'medidas': ''}, 'short_descricao': 'COMPUTADOR DESKTOP', 'origem': 'C105.2', 'key': 408143, 'tipo': 'Permanente'}\n",
      "{'responsavel': 'Camila Waldrich Fischer', 'ambiente': <google.cloud.firestore_v1.document.DocumentReference object at 0x7f36ab1c3160>, 'edificio': 'BNU07 - Bloco Administrativo C', 'detalhes': {'patrimonio': 1020649, 'n_controle': None, 'cod_barras': 408158, 'n_serie': '5A380QJ4N', 'descricao': 'COMPUTADOR DESKTOP - COMPUTADOR DESKTOP, MARCA POSITIVO, MODELO MASTER C4400 MINIPRO, ACOMPANHA WINDOWS 11 PRO 64 BITS, ACOMPANHA MOUSE, TECLADO E CABOS, BIVOLT.', 'conservacao': 'EM USO', 'incorporacao': datetime.datetime(2023, 7, 19, 0, 0), 'transf_local': datetime.datetime(2023, 9, 19, 0, 0), 'valor': 3306.18, 'situacao': 'Ativo', 'peso': '', 'medidas': ''}, 'short_descricao': 'COMPUTADOR DESKTOP', 'origem': 'C105.2', 'key': 408158, 'tipo': 'Permanente'}\n",
      "{'responsavel': 'Camila Waldrich Fischer', 'ambiente': <google.cloud.firestore_v1.document.DocumentReference object at 0x7f36ab1c29b0>, 'edificio': 'BNU07 - Bloco Administrativo C', 'detalhes': {'patrimonio': 1020650, 'n_controle': None, 'cod_barras': 408159, 'n_serie': '5A380QM1H', 'descricao': 'COMPUTADOR DESKTOP - COMPUTADOR DESKTOP, MARCA POSITIVO, MODELO MASTER C4400 MINIPRO, ACOMPANHA WINDOWS 11 PRO 64 BITS, ACOMPANHA MOUSE, TECLADO E CABOS, BIVOLT.', 'conservacao': 'EM USO', 'incorporacao': datetime.datetime(2023, 7, 19, 0, 0), 'transf_local': datetime.datetime(2023, 9, 19, 0, 0), 'valor': 3306.18, 'situacao': 'Ativo', 'peso': '', 'medidas': ''}, 'short_descricao': 'COMPUTADOR DESKTOP', 'origem': 'C105.2', 'key': 408159, 'tipo': 'Permanente'}\n",
      "{'responsavel': 'Camila Waldrich Fischer', 'ambiente': <google.cloud.firestore_v1.document.DocumentReference object at 0x7f36ab1c1870>, 'edificio': 'BNU07 - Bloco Administrativo C', 'detalhes': {'patrimonio': 1020659, 'n_controle': None, 'cod_barras': 408168, 'n_serie': '5A381CH64', 'descricao': 'COMPUTADOR DESKTOP - COMPUTADOR DESKTOP, MARCA POSITIVO, MODELO MASTER C4400 MINIPRO, ACOMPANHA WINDOWS 11 PRO 64 BITS, ACOMPANHA MOUSE, TECLADO E CABOS, BIVOLT.', 'conservacao': 'EM USO', 'incorporacao': datetime.datetime(2023, 7, 19, 0, 0), 'transf_local': datetime.datetime(2023, 9, 19, 0, 0), 'valor': 3306.18, 'situacao': 'Ativo', 'peso': '', 'medidas': ''}, 'short_descricao': 'COMPUTADOR DESKTOP', 'origem': 'C105.2', 'key': 408168, 'tipo': 'Permanente'}\n",
      "{'responsavel': 'Camila Waldrich Fischer', 'ambiente': <google.cloud.firestore_v1.document.DocumentReference object at 0x7f36ab1c17b0>, 'edificio': 'BNU07 - Bloco Administrativo C', 'detalhes': {'patrimonio': 1020660, 'n_controle': None, 'cod_barras': 408169, 'n_serie': '5A380BM42', 'descricao': 'COMPUTADOR DESKTOP - COMPUTADOR DESKTOP, MARCA POSITIVO, MODELO MASTER C4400 MINIPRO, ACOMPANHA WINDOWS 11 PRO 64 BITS, ACOMPANHA MOUSE, TECLADO E CABOS, BIVOLT.', 'conservacao': 'EM USO', 'incorporacao': datetime.datetime(2023, 7, 19, 0, 0), 'transf_local': datetime.datetime(2023, 9, 19, 0, 0), 'valor': 3306.18, 'situacao': 'Ativo', 'peso': '', 'medidas': ''}, 'short_descricao': 'COMPUTADOR DESKTOP', 'origem': 'C105.2', 'key': 408169, 'tipo': 'Permanente'}\n",
      "{'responsavel': 'Carolina Suelen da Silva', 'ambiente': <google.cloud.firestore_v1.document.DocumentReference object at 0x7f36ab1c3370>, 'edificio': 'BNU07 - Bloco Administrativo C', 'detalhes': {'patrimonio': 1022001, 'n_controle': None, 'cod_barras': 364332, 'n_serie': '232424538-0086', 'descricao': 'ESTABILIZADOR TIPO NOBREAK  - MARCA: TS SHARA; MODELO: UPS SENOIDAL 1500VA. SENOIDAL BIVOLT 1500 VA COM 8 TOMADAS, DE AUTONOMIA EXPANSÍVEL, INCLUSO UM BANCO DE BATERIAS E SEUS ACESSÓRIOS PARA CONEXÃO RÁPIDA COMPATÍVEL COM O EQUIPAMENTO EXPANSÍVEL, TENSÃO DE ENTRADA BIVOLT: ~127/220V, TENSÃO DE SAÍDA: 120/220V E 50/60HZ, PESO: 17KG; ALTURA: 230MM; LARGURA: 150MM; COMPRIMENTO: 445MM. BATERIAS SELADAS, COLD START, SISTEMA PLUGUE E USE, PROTEÇÃO CONTRA SURTOS DE TENSÃO E GERENCIÁVEL POR SOFTWARE.', 'conservacao': 'EM USO', 'incorporacao': datetime.datetime(2023, 9, 28, 0, 0), 'transf_local': None, 'valor': 1574, 'situacao': 'Ativo', 'peso': 'PESO: 17KG', 'medidas': '230MMX150MMX445MM'}, 'short_descricao': 'ESTABILIZADOR TIPO NOBREAK ', 'origem': 'C105.2', 'key': 364332, 'tipo': 'Permanente'}\n",
      "{'responsavel': 'Carolina Suelen da Silva', 'ambiente': <google.cloud.firestore_v1.document.DocumentReference object at 0x7f36ab1c38b0>, 'edificio': 'BNU07 - Bloco Administrativo C', 'detalhes': {'patrimonio': 1022002, 'n_controle': None, 'cod_barras': 364333, 'n_serie': '232424538-0087', 'descricao': 'ESTABILIZADOR TIPO NOBREAK  - MARCA: TS SHARA; MODELO: UPS SENOIDAL 1500VA. SENOIDAL BIVOLT 1500 VA COM 8 TOMADAS, DE AUTONOMIA EXPANSÍVEL, INCLUSO UM BANCO DE BATERIAS E SEUS ACESSÓRIOS PARA CONEXÃO RÁPIDA COMPATÍVEL COM O EQUIPAMENTO EXPANSÍVEL, TENSÃO DE ENTRADA BIVOLT: ~127/220V, TENSÃO DE SAÍDA: 120/220V E 50/60HZ, PESO: 17KG; ALTURA: 230MM; LARGURA: 150MM; COMPRIMENTO: 445MM. BATERIAS SELADAS, COLD START, SISTEMA PLUGUE E USE, PROTEÇÃO CONTRA SURTOS DE TENSÃO E GERENCIÁVEL POR SOFTWARE.', 'conservacao': 'EM USO', 'incorporacao': datetime.datetime(2023, 9, 28, 0, 0), 'transf_local': None, 'valor': 1574, 'situacao': 'Ativo', 'peso': 'PESO: 17KG', 'medidas': '230MMX150MMX445MM'}, 'short_descricao': 'ESTABILIZADOR TIPO NOBREAK ', 'origem': 'C105.2', 'key': 364333, 'tipo': 'Permanente'}\n",
      "{'responsavel': 'Rafael dos Reis Abreu', 'ambiente': <google.cloud.firestore_v1.document.DocumentReference object at 0x7f36ab1c1030>, 'edificio': 'BNU05 - VASTO VERDE', 'detalhes': {'patrimonio': 1021817, 'n_controle': None, 'cod_barras': 364328, 'n_serie': 1675072, 'descricao': 'BEBEDOURO DE ÁGUA  - TIPO VERTICAL FIXO. MARCA: LIBELL; MODELO: PRESS STAR INOX. BEBEDOURO TIPO PRESSÃO; COM DUAS BICAS (TORNEIRAS) UMA DO TIPO COPO E UMA DO TIPO JATO; ALIMENTADO COM ÁGUA DA REDE; PIA EM AÇO INOXIDÁVEL E RESERVATÓRIO DE ÁGUA EM POLIACETAL; 220 V.', 'conservacao': 'EM USO', 'incorporacao': datetime.datetime(2023, 9, 20, 0, 0), 'transf_local': None, 'valor': 695, 'situacao': 'Ativo', 'peso': '', 'medidas': ''}, 'short_descricao': 'BEBEDOURO DE ÁGUA ', 'origem': 'VVC00', 'key': 364328, 'tipo': 'Permanente'}\n",
      "{'responsavel': 'Rafael dos Reis Abreu', 'ambiente': <google.cloud.firestore_v1.document.DocumentReference object at 0x7f36ab1c0250>, 'edificio': 'BNU02 - Bloco Acadêmico A', 'detalhes': {'patrimonio': 1021798, 'n_controle': None, 'cod_barras': 364323, 'n_serie': 1675067, 'descricao': 'BEBEDOURO DE ÁGUA  - TIPO VERTICAL FIXO. MARCA: LIBELL; MODELO: PRESS STAR INOX. BEBEDOURO TIPO PRESSÃO; COM DUAS BICAS (TORNEIRAS) UMA DO TIPO COPO E UMA DO TIPO JATO; ALIMENTADO COM ÁGUA DA REDE; PIA EM AÇO INOXIDÁVEL E RESERVATÓRIO DE ÁGUA EM POLIACETAL; 220 V.', 'conservacao': 'EM USO', 'incorporacao': datetime.datetime(2023, 9, 20, 0, 0), 'transf_local': None, 'valor': 695, 'situacao': 'Ativo', 'peso': '', 'medidas': ''}, 'short_descricao': 'BEBEDOURO DE ÁGUA ', 'origem': 'AC00', 'key': 364323, 'tipo': 'Permanente'}\n",
      "{'responsavel': 'Rafael dos Reis Abreu', 'ambiente': <google.cloud.firestore_v1.document.DocumentReference object at 0x7f36ab1c22f0>, 'edificio': 'BNU02 - Bloco Acadêmico A', 'detalhes': {'patrimonio': 1021819, 'n_controle': None, 'cod_barras': 364324, 'n_serie': 1675068, 'descricao': 'BEBEDOURO DE ÁGUA  - TIPO VERTICAL FIXO. MARCA: LIBELL; MODELO: PRESS STAR INOX. BEBEDOURO TIPO PRESSÃO; COM DUAS BICAS (TORNEIRAS) UMA DO TIPO COPO E UMA DO TIPO JATO; ALIMENTADO COM ÁGUA DA REDE; PIA EM AÇO INOXIDÁVEL E RESERVATÓRIO DE ÁGUA EM POLIACETAL; 220 V.', 'conservacao': 'EM USO', 'incorporacao': datetime.datetime(2023, 9, 20, 0, 0), 'transf_local': None, 'valor': 695, 'situacao': 'Ativo', 'peso': '', 'medidas': ''}, 'short_descricao': 'BEBEDOURO DE ÁGUA ', 'origem': 'AC01', 'key': 364324, 'tipo': 'Permanente'}\n",
      "{'responsavel': 'Rafael dos Reis Abreu', 'ambiente': <google.cloud.firestore_v1.document.DocumentReference object at 0x7f36ab1c0e50>, 'edificio': 'BNU02 - Bloco Acadêmico A', 'detalhes': {'patrimonio': 1021820, 'n_controle': None, 'cod_barras': 364325, 'n_serie': 1675063, 'descricao': 'BEBEDOURO DE ÁGUA  - TIPO VERTICAL FIXO. MARCA: LIBELL; MODELO: PRESS STAR INOX. BEBEDOURO TIPO PRESSÃO; COM DUAS BICAS (TORNEIRAS) UMA DO TIPO COPO E UMA DO TIPO JATO; ALIMENTADO COM ÁGUA DA REDE; PIA EM AÇO INOXIDÁVEL E RESERVATÓRIO DE ÁGUA EM POLIACETAL; 220 V.', 'conservacao': 'EM USO', 'incorporacao': datetime.datetime(2023, 9, 20, 0, 0), 'transf_local': None, 'valor': 695, 'situacao': 'Ativo', 'peso': '', 'medidas': ''}, 'short_descricao': 'BEBEDOURO DE ÁGUA ', 'origem': 'AC02', 'key': 364325, 'tipo': 'Permanente'}\n",
      "{'responsavel': 'Cristiane da Costa', 'ambiente': <google.cloud.firestore_v1.document.DocumentReference object at 0x7f36ab1c2f20>, 'edificio': 'BNU03 - Bloco Acadêmico B', 'detalhes': {'patrimonio': 1021766, 'n_controle': None, 'cod_barras': 393695, 'n_serie': '3338/23', 'descricao': 'BANHO MARIA - BANHO MARIA DIGITAL 100OC PRECISAO 220V CAP.10L MARCA: ACS; MODELO: AG0004.002 AG-MBD.', 'conservacao': 'EM USO', 'incorporacao': datetime.datetime(2023, 2, 10, 0, 0), 'transf_local': None, 'valor': 1758, 'situacao': 'Ativo', 'peso': '', 'medidas': ''}, 'short_descricao': 'BANHO MARIA', 'origem': 'B002', 'key': 393695, 'tipo': 'Permanente'}\n",
      "{'responsavel': 'Cristiane da Costa', 'ambiente': <google.cloud.firestore_v1.document.DocumentReference object at 0x7f36ab1c2bf0>, 'edificio': 'BNU03 - Bloco Acadêmico B', 'detalhes': {'patrimonio': 1021767, 'n_controle': None, 'cod_barras': 393697, 'n_serie': 202201267, 'descricao': 'MICROCENTRÍFUGA - MICROCENTRÍFUGA ANALÓGICA - FX. DE VEL. 12000 RPM - C/ 2 ROTORES - BIVOLT. MARCA: DAIKI; MODELO: DT-10K+-BI.', 'conservacao': 'EM USO', 'incorporacao': datetime.datetime(2023, 2, 3, 0, 0), 'transf_local': None, 'valor': 2385, 'situacao': 'Ativo', 'peso': '', 'medidas': ''}, 'short_descricao': 'MICROCENTRÍFUGA', 'origem': 'B002', 'key': 393697, 'tipo': 'Permanente'}\n",
      "{'responsavel': 'Cristiane da Costa', 'ambiente': <google.cloud.firestore_v1.document.DocumentReference object at 0x7f36ab1c11e0>, 'edificio': 'BNU03 - Bloco Acadêmico B', 'detalhes': {'patrimonio': 1021768, 'n_controle': None, 'cod_barras': 393696, 'n_serie': 500014427, 'descricao': 'AGITADOR MAGNÉTICO  - AGITADOR MAGNÉTICO COM AQUECIMENTO. MARCA: IKA; MODELO: IKA C-MAG HS7. COM ETS D5, H16V, H38, H44 - N/S: 500014427 OU 5M0I0C0R1O4C42E7NTRIFUGA\\r\\n', 'conservacao': 'EM USO', 'incorporacao': datetime.datetime(2023, 1, 26, 0, 0), 'transf_local': None, 'valor': 5857, 'situacao': 'Ativo', 'peso': '', 'medidas': ''}, 'short_descricao': 'AGITADOR MAGNÉTICO ', 'origem': 'B002', 'key': 393696, 'tipo': 'Permanente'}\n",
      "{'responsavel': 'Rafael dos Reis Abreu', 'ambiente': <google.cloud.firestore_v1.document.DocumentReference object at 0x7f36ab1c1240>, 'edificio': 'BNU03 - Bloco Acadêmico B', 'detalhes': {'patrimonio': 1021818, 'n_controle': None, 'cod_barras': 364326, 'n_serie': 1675066, 'descricao': 'BEBEDOURO DE ÁGUA  - TIPO VERTICAL FIXO. MARCA: LIBELL; MODELO: PRESS STAR INOX. BEBEDOURO TIPO PRESSÃO; COM DUAS BICAS (TORNEIRAS) UMA DO TIPO COPO E UMA DO TIPO JATO; ALIMENTADO COM ÁGUA DA REDE; PIA EM AÇO INOXIDÁVEL E RESERVATÓRIO DE ÁGUA EM POLIACETAL; 220 V.', 'conservacao': 'EM USO', 'incorporacao': datetime.datetime(2023, 9, 20, 0, 0), 'transf_local': None, 'valor': 695, 'situacao': 'Ativo', 'peso': '', 'medidas': ''}, 'short_descricao': 'BEBEDOURO DE ÁGUA ', 'origem': 'BC00', 'key': 364326, 'tipo': 'Permanente'}\n",
      "{'responsavel': 'Rafael dos Reis Abreu', 'ambiente': <google.cloud.firestore_v1.document.DocumentReference object at 0x7f36ab1c2560>, 'edificio': 'BNU03 - Bloco Acadêmico B', 'detalhes': {'patrimonio': 1021816, 'n_controle': None, 'cod_barras': 364327, 'n_serie': 1675073, 'descricao': 'BEBEDOURO DE ÁGUA  - TIPO VERTICAL FIXO. MARCA: LIBELL; MODELO: PRESS STAR INOX. BEBEDOURO TIPO PRESSÃO; COM DUAS BICAS (TORNEIRAS) UMA DO TIPO COPO E UMA DO TIPO JATO; ALIMENTADO COM ÁGUA DA REDE; PIA EM AÇO INOXIDÁVEL E RESERVATÓRIO DE ÁGUA EM POLIACETAL; 220 V.', 'conservacao': 'EM USO', 'incorporacao': datetime.datetime(2023, 9, 20, 0, 0), 'transf_local': None, 'valor': 695, 'situacao': 'Ativo', 'peso': '', 'medidas': ''}, 'short_descricao': 'BEBEDOURO DE ÁGUA ', 'origem': 'BC01', 'key': 364327, 'tipo': 'Permanente'}\n"
     ]
    }
   ],
   "source": [
    "for patrimonio, dicionario in DIFF['new'].items():\n",
    "    docref = db.document(f'items/{patrimonio}')  \n",
    "    print(dicionario)\n",
    "    docref.set(dicionario)"
   ]
  },
  {
   "cell_type": "code",
   "execution_count": 48,
   "metadata": {},
   "outputs": [
    {
     "data": {
      "text/plain": [
       "41"
      ]
     },
     "execution_count": 48,
     "metadata": {},
     "output_type": "execute_result"
    }
   ],
   "source": [
    "len(DIFF['new'])"
   ]
  },
  {
   "cell_type": "code",
   "execution_count": 49,
   "metadata": {},
   "outputs": [
    {
     "data": {
      "text/plain": [
       "257"
      ]
     },
     "execution_count": 49,
     "metadata": {},
     "output_type": "execute_result"
    }
   ],
   "source": [
    "len(DIFF['modified'])"
   ]
  },
  {
   "cell_type": "code",
   "execution_count": null,
   "metadata": {},
   "outputs": [],
   "source": []
  }
 ],
 "metadata": {
  "kernelspec": {
   "display_name": "pythonSDK-zBAoyeeM",
   "language": "python",
   "name": "python3"
  },
  "language_info": {
   "codemirror_mode": {
    "name": "ipython",
    "version": 3
   },
   "file_extension": ".py",
   "mimetype": "text/x-python",
   "name": "python",
   "nbconvert_exporter": "python",
   "pygments_lexer": "ipython3",
   "version": "3.10.8"
  },
  "orig_nbformat": 4
 },
 "nbformat": 4,
 "nbformat_minor": 2
}
