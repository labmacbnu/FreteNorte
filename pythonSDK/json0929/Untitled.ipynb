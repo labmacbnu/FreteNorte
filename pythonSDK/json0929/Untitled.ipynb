{
 "cells": [
  {
   "cell_type": "code",
   "execution_count": 1,
   "id": "8acb1fcb-3db6-43fa-9c97-947573403d20",
   "metadata": {},
   "outputs": [],
   "source": [
    "import pandas as pd"
   ]
  },
  {
   "cell_type": "code",
   "execution_count": 3,
   "id": "2c14f6b1-f24e-454a-aa95-9e5b5dad053c",
   "metadata": {},
   "outputs": [],
   "source": [
    "df = pd.read_json(\"ambientes.json\")\n"
   ]
  },
  {
   "cell_type": "code",
   "execution_count": 7,
   "id": "b6f85d26-07da-422d-8f4b-6328a0409fc7",
   "metadata": {},
   "outputs": [],
   "source": [
    "df.query(\"edificio == 'BNU03 - Bloco Acadêmico B'\")[[\"codigo\", \"nome\", \"items\"]].to_excel(\"ambientesB.xlsx\", index=False)"
   ]
  }
 ],
 "metadata": {
  "kernelspec": {
   "display_name": "Python 3 (ipykernel)",
   "language": "python",
   "name": "python3"
  },
  "language_info": {
   "codemirror_mode": {
    "name": "ipython",
    "version": 3
   },
   "file_extension": ".py",
   "mimetype": "text/x-python",
   "name": "python",
   "nbconvert_exporter": "python",
   "pygments_lexer": "ipython3",
   "version": "3.10.8"
  }
 },
 "nbformat": 4,
 "nbformat_minor": 5
}
