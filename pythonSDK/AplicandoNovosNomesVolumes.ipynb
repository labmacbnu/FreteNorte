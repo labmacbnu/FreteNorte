{
 "cells": [
  {
   "cell_type": "code",
   "execution_count": 1,
   "metadata": {},
   "outputs": [],
   "source": [
    "import firebase_admin\n",
    "from firebase_admin import credentials\n",
    "from firebase_admin import firestore, auth\n",
    "from firebase_admin.firestore import FieldFilter\n",
    "from datetime import datetime\n",
    "import json \n",
    "from dotenv import load_dotenv\n",
    "from random import randint\n",
    "import os\n",
    "import re\n",
    "from unidecode import unidecode\n",
    "\n",
    "load_dotenv()\n",
    "\n",
    "cred = credentials.Certificate(os.getenv(\"firebase_secret\"))\n",
    "app = firebase_admin.initialize_app(cred)\n",
    "db = firestore.client()\n",
    "\n",
    "\n",
    "def soft_delete_volume(volume_fullref: str):\n",
    "    volume_db = db.document(volume_fullref)\n",
    "    volume_db.update({\"deleted\": True})\n",
    "\n",
    "def batch_write(collection: str, dictarray: list[dict], key_id: str | None = None):\n",
    "    batch = db.batch()\n",
    "    collection_ref = db.collection(collection)\n",
    "    k = 1\n",
    "    for i in range(0, len(dictarray), 500):\n",
    "        chunk = dictarray[i:i+500]\n",
    "        for document in chunk:\n",
    "            if key_id:\n",
    "                doc_ref = collection_ref.document(str(document[key_id]))\n",
    "                batch.set(doc_ref, document)\n",
    "        print(f\"{collection}: chunk {k} ({len(chunk)} documents)\")\n",
    "        k += 1\n",
    "        batch.commit()"
   ]
  },
  {
   "cell_type": "code",
   "execution_count": 2,
   "metadata": {},
   "outputs": [],
   "source": [
    "\n",
    "def load_json_file(filename):\n",
    "    with open(filename) as fp:\n",
    "        content = json.load(fp)\n",
    "    return content"
   ]
  },
  {
   "cell_type": "code",
   "execution_count": 3,
   "metadata": {},
   "outputs": [],
   "source": [
    "volumes = load_json_file(\"json1123/volumes.json\")"
   ]
  },
  {
   "cell_type": "code",
   "execution_count": null,
   "metadata": {},
   "outputs": [],
   "source": []
  }
 ],
 "metadata": {
  "kernelspec": {
   "display_name": "pythonSDK-zBAoyeeM",
   "language": "python",
   "name": "python3"
  },
  "language_info": {
   "codemirror_mode": {
    "name": "ipython",
    "version": 3
   },
   "file_extension": ".py",
   "mimetype": "text/x-python",
   "name": "python",
   "nbconvert_exporter": "python",
   "pygments_lexer": "ipython3",
   "version": "3.10.8"
  }
 },
 "nbformat": 4,
 "nbformat_minor": 2
}
